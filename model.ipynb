{
 "cells": [
  {
   "cell_type": "code",
   "execution_count": 20,
   "metadata": {},
   "outputs": [],
   "source": [
    "from sklearn.linear_model import LogisticRegression\n",
    "from sklearn.metrics import confusion_matrix,accuracy_score,f1_score\n",
    "from sklearn.neighbors import KNeighborsClassifier\n",
    "import pickle\n",
    "from sklearn.pipeline import Pipeline\n",
    "from sklearn.feature_extraction.text import CountVectorizer, TfidfTransformer\n",
    "import numpy as np\n",
    "import time\n",
    "from sklearn.model_selection import StratifiedKFold\n",
    "from sklearn.naive_bayes import MultinomialNB\n",
    "from sklearn.decomposition import PCA, TruncatedSVD"
   ]
  },
  {
   "cell_type": "code",
   "execution_count": 22,
   "metadata": {},
   "outputs": [],
   "source": [
    "x_train = np.array(pickle.load(open('data/saved/train_x.sav','rb')))\n",
    "y_train = np.array(pickle.load(open('data/saved/train_y.sav','rb')))\n",
    "x_test = np.array(pickle.load(open('data/saved/test_x.sav','rb')))\n",
    "y_test = np.array(pickle.load(open('data/saved/test_y.sav','rb')))\n"
   ]
  },
  {
   "cell_type": "markdown",
   "metadata": {},
   "source": [
    "Vi sau khi tien xu li so chieu van con qua lon -> su dung PCA de giam so chieu  \n",
    "Vi laptop deu k chay dc pca nen e chay tren google colab r luu lai vao file=)))))"
   ]
  },
  {
   "cell_type": "code",
   "execution_count": 24,
   "metadata": {},
   "outputs": [],
   "source": [
    "feature_extractor = Pipeline([\n",
    "    # Chuyển tập dữ liệu sang dạng vector count dựa trên một vocab chung (BoW), loại bỏ những word có tần suất xuất hiện > 0.8\n",
    "    ('vectorize', CountVectorizer(max_df=0.8)),\n",
    "\n",
    "    # Áp dụng TF-IDF để trích chọn đặc trưng (extract feature)\n",
    "    ('feature extracter', TfidfTransformer()),\n",
    "])\n",
    "feature_extractor_pca = Pipeline([\n",
    "    # Chuyển tập dữ liệu sang dạng vector count dựa trên một vocab chung (BoW), loại bỏ những word có tần suất xuất hiện > 0.8\n",
    "    ('vectorize', CountVectorizer(max_df=0.8, encoding='utf-16')),\n",
    "\n",
    "    # Áp dụng TF-IDF để trích chọn đặc trưng (extract feature)\n",
    "    ('feature extracter', TfidfTransformer()),\n",
    "\n",
    "    # Áp dụng Pricipal component analysis để giảm số chiều dữ liệu và vẫn dữ được các thông tin quan trọng cho phân loại\n",
    "    ('pca', TruncatedSVD(n_components=3000)),\n",
    "])\n",
    "# train_feature = feature_extractor.fit_transform(x_train,y_train)\n",
    "# train_features_pca = feature_extractor_pca.fit_transform(x_train,y_train)\n",
    "# pickle.dump(feature_extractor,open('data/saved/feature_extractor.sav','wb'))\n",
    "# pickle.dump(feature_extractor_pca,open('data/saved/feature_extractor_pca.sav','wb'))\n",
    "# pickle.dump(train_feature,open('data/saved/train_feature.sav','wb'))\n",
    "# pickle.dump(train_features_pca,open('data/saved/train_feature_pca.sav','wb'))\n",
    "# print('Kích thước ma trận dữ liệu huấn luyện: ', train_feature.shape)"
   ]
  },
  {
   "cell_type": "code",
   "execution_count": 52,
   "metadata": {},
   "outputs": [],
   "source": [
    "train_feature = pickle.load(open('data/saved/train_feature.sav','rb'))\n",
    "train_features_pca = pickle.load(open('data/saved/train_features_pca.sav','rb'))"
   ]
  },
  {
   "cell_type": "code",
   "execution_count": 26,
   "metadata": {},
   "outputs": [],
   "source": [
    "num_folds = 5\n",
    "rstate = 1\n",
    "spliter = StratifiedKFold(n_splits=num_folds, shuffle=True, random_state=rstate)"
   ]
  },
  {
   "cell_type": "markdown",
   "metadata": {},
   "source": [
    "### 1.Phan lop bang KNN\n",
    "KNN hoạt động dựa trên nguyên tắc rằng các điểm dữ liệu có thuộc tính giống nhau thường có cùng nhãn. Thuật toán này không tạo ra một mô hình dự đoán mà thay vào đó, khi có một điểm dữ liệu mới cần phân loại, nó tìm kiếm trong tập dữ liệu huấn luyện để xác định \"K\" điểm dữ liệu gần nhất (các \"hàng xóm\") và sau đó dự đoán nhãn của điểm dữ liệu mới dựa trên đa số nhãn của các điểm hàng xóm.\n",
    "Các tham số chính trong thuật toán KNN bao gồm:\n",
    "- K: Đây là số lượng hàng xóm gần nhất mà thuật toán sẽ xem xét để đưa ra dự đoán cho một điểm dữ liệu mới. Giá trị K này thường được chọn trước và có thể ảnh hưởng đến độ chính xác của mô hình.\n",
    "\n",
    "- Hàm khoảng cách: Khi xác định các hàng xóm gần nhất, thuật toán cần một hàm để đo lường khoảng cách giữa các điểm dữ liệu. Hàm này thường là Euclidean distance, nhưng cũng có thể sử dụng các hàm khoảng cách khác tùy thuộc vào đặc điểm của dữ liệu.\n",
    "\n",
    "- Trọng số của các hàng xóm: Trong một số trường hợp, các hàng xóm gần nhất có thể được coi là quan trọng hơn so với các hàng xóm xa hơn. Trong trường hợp này, trọng số có thể được gán cho mỗi hàng xóm dựa trên khoảng cách của chúng đến điểm dữ liệu mới.\n",
    "\n",
    "- Tiêu chuẩn hóa dữ liệu: Trong một số trường hợp, việc tiêu chuẩn hóa dữ liệu có thể cần thiết để đảm bảo rằng các biến có phạm vi giá trị tương đương khi tính toán khoảng cách.\n"
   ]
  },
  {
   "cell_type": "code",
   "execution_count": 9,
   "metadata": {},
   "outputs": [],
   "source": [
    "mean_accuracy_scores = []\n",
    "mean_f1_scores = []\n",
    "mean_train_time = []\n",
    "mean_valid_time = []\n",
    "\n",
    "K_neighbor = 10\n",
    "for k in range(1,K_neighbor):\n",
    "    model = KNeighborsClassifier(n_neighbors=k)\n",
    "    accs = []\n",
    "    f1s = []\n",
    "    train_times = []\n",
    "    valid_times = []\n",
    "    for train_index, valid_index in spliter.split(x_train, y_train):\n",
    "        # train model\n",
    "        start = time.time_ns()\n",
    "        model.fit(train_feature[train_index], y_train[train_index])\n",
    "        train_times.append(time.time_ns() - start)\n",
    "\n",
    "        # valid model\n",
    "        start = time.time_ns()\n",
    "        y_pred = model.predict(train_feature[valid_index])\n",
    "        valid_times.append(time.time_ns() - start)\n",
    "\n",
    "        # evaluate model\n",
    "        accs.append(accuracy_score(y_train[valid_index], y_pred))\n",
    "        f1s.append(f1_score(y_train[valid_index], y_pred, average='macro'))\n",
    "\n",
    "    mean_train_time.append(np.mean(train_times))\n",
    "    mean_valid_time.append(np.mean(valid_times))\n",
    "    mean_accuracy_scores.append(np.mean(accs))\n",
    "    mean_f1_scores.append(np.mean(f1s))\n",
    "    print(f'Với K_neighbor = {k}:')\n",
    "    print('\\t - Thời gian train: {:.2f} ms'.format(mean_train_time[-1] / 1e6))\n",
    "    print('\\t - Thời gian valid: {:.2f} ms'.format(mean_valid_time[-1] / 1e6))\n",
    "    print('\\t - Accuracy score:  {:.2f} %'.format(mean_accuracy_scores[-1] * 100))\n",
    "    print('\\t - F1 score:        {:.2f} %'.format(mean_f1_scores[-1] * 100))"
   ]
  },
  {
   "cell_type": "code",
   "execution_count": null,
   "metadata": {},
   "outputs": [],
   "source": [
    "knn_model = KNeighborsClassifier(n_neighbors=10)\n",
    "knn_model.fit(train_feature,y_train)\n",
    "path = 'data/saved/knn_model.sav'\n",
    "pickle.dump(knn_model, open(path, 'wb'))"
   ]
  },
  {
   "cell_type": "markdown",
   "metadata": {},
   "source": [
    "### 2. Logistic Regression\n",
    "Hồi quy logistic là một kỹ thuật phân tích dữ liệu sử dụng toán học để tìm ra mối quan hệ giữa hai yếu tố dữ liệu. Sau đó, kỹ thuật này sử dụng mối quan hệ đã tìm được để dự đoán giá trị của những yếu tố đó dựa trên yếu tố còn lại. Dự đoán thường cho ra một số kết quả hữu hạn, như có hoặc không.\n",
    "Hồi quy logistic là một mô hình thống kê sử dụng hàm logistic, hay hàm logit trong toán học làm phương trình giữa x và y. Hàm logit ánh xạ y làm hàm sigmoid của x.\n",
    "Hàm sigmoid của x.\n",
    "$$sigmoid(x) = \\frac{1}{1 + e^{-x}}$$\n",
    "Mô hình Logistic Regression có 3 siêu tham số cần chọn đó là phương pháp hiệu chỉnh, hệ số hiệu chỉnh và thuật toán tối ưu. Với mỗi thuật toán tối ưu sẽ hỗ trợ một số phương pháp hiệu chỉnh khác nhau. Trong đó:\n",
    "\n",
    "Thuật toán tối ưu:\n",
    "- Newton's method ('l2', 'none'): Thuật toán này cũng hướng tới việc xấp xỉ hàm loss bậc 2 tương tự như Gradient Descent, những khác ở chỗ nó sử dụng phép xấp xỉ bậc 2, tại mỗi bước nó sẽ xấp xỉ hàm số f(x) bằng 1 hàm số bậc 2 quanh x và tiến 1 bước về cực đại hoặc cực tiểu của hàm đó.\n",
    "- Limited-memory Broyden–Fletcher–Goldfarb–Shanno Algorithm ('l2', 'none'): Tương tự như Newton's method nhưng ma trận Hessian được tính gần đúng bằng cách đánh giá đạo hàm. Phương pháp này rất tốt cho tập dữ liệu nhỏ.\n",
    "- A Library for Large Linear Classification ('l1', 'l2'): Là một phương pháp linear classification mà hỗ trợ Logistic Regression và linear SVM\n",
    "- Stochastic Average Gradient ('l2', 'none'): Phương pháp SAG thực hiện tối ưu hóa tổng của một số hữu hạn các hàm lồi trơn.\n",
    "- SAGA ('elasticnet', 'l2', 'l1', 'none'): Là một biến thể của SAG nhưng hỗ trợ L1, nó hoạt động rất tốt với những bộ dữ liệu rất lớn.\n",
    "\n",
    "Phương pháp hiệu chỉnh\n",
    "- none: Không hiệu chỉnh\n",
    "- l1: Hiệu chỉnh L1\n",
    "- l2: Hiệu chỉnh L2\n",
    "- elasticnet: Kết hợp giữa L1 và L2\n",
    "\n",
    "Nghịch đảo của hệ số hiệu chỉnh (C) - C càng nhỏ, hiệu chỉnh càng mạnh:\n",
    "\n",
    "$$C \\in \\{ 1, 2, 5, 10, 16 \\}$$\n"
   ]
  },
  {
   "cell_type": "code",
   "execution_count": null,
   "metadata": {},
   "outputs": [
    {
     "name": "stdout",
     "output_type": "stream",
     "text": [
      "Với phuong phap hieu chinh = newton-cg:\n",
      "\t - Thời gian train: 102978.94 ms\n",
      "\t - Thời gian valid: 45.15 ms\n",
      "\t - Accuracy score:  88.34 %\n",
      "\t - F1 score:        85.54 %\n",
      "Với phuong phap hieu chinh = lbfgs:\n",
      "\t - Thời gian train: 120514.90 ms\n",
      "\t - Thời gian valid: 64.50 ms\n",
      "\t - Accuracy score:  88.34 %\n",
      "\t - F1 score:        85.54 %\n",
      "Với phuong phap hieu chinh = liblinear:\n",
      "\t - Thời gian train: 25859.14 ms\n",
      "\t - Thời gian valid: 40.78 ms\n",
      "\t - Accuracy score:  88.20 %\n",
      "\t - F1 score:        85.26 %\n",
      "Với phuong phap hieu chinh = sag:\n",
      "\t - Thời gian train: 15210.95 ms\n",
      "\t - Thời gian valid: 54.49 ms\n",
      "\t - Accuracy score:  88.34 %\n",
      "\t - F1 score:        85.54 %\n",
      "Với phuong phap hieu chinh = saga:\n",
      "\t - Thời gian train: 18629.61 ms\n",
      "\t - Thời gian valid: 52.61 ms\n",
      "\t - Accuracy score:  88.35 %\n",
      "\t - F1 score:        85.55 %\n"
     ]
    }
   ],
   "source": [
    "mean_accuracy_scores = []\n",
    "mean_f1_scores = []\n",
    "mean_train_time = []\n",
    "mean_valid_time = []\n",
    "\n",
    "opt_solve = ['newton-cg','lbfgs','liblinear','sag','saga']\n",
    "MAX_ITER = 100_000\n",
    "for opt in opt_solve:\n",
    "    model = LogisticRegression(solver=opt,penalty='l2',C=2,max_iter=MAX_ITER)\n",
    "    accs = []\n",
    "    f1s = []\n",
    "    train_times = []\n",
    "    valid_times = []\n",
    "    for train_index, valid_index in spliter.split(x_train, y_train):\n",
    "        # train model\n",
    "        start = time.time_ns()\n",
    "        model.fit(train_feature[train_index], y_train[train_index])\n",
    "        train_times.append(time.time_ns() - start)\n",
    "\n",
    "        # valid model\n",
    "        start = time.time_ns()\n",
    "        y_pred = model.predict(train_feature[valid_index])\n",
    "        valid_times.append(time.time_ns() - start)\n",
    "\n",
    "        # evaluate model\n",
    "        accs.append(accuracy_score(y_train[valid_index], y_pred))\n",
    "        f1s.append(f1_score(y_train[valid_index], y_pred, average='macro'))\n",
    "\n",
    "    mean_train_time.append(np.mean(train_times))\n",
    "    mean_valid_time.append(np.mean(valid_times))\n",
    "    mean_accuracy_scores.append(np.mean(accs))\n",
    "    mean_f1_scores.append(np.mean(f1s))\n",
    "    print(f'Với phuong phap hieu chinh = {opt}:')\n",
    "    print('\\t - Thời gian train: {:.2f} ms'.format(mean_train_time[-1] / 1e6))\n",
    "    print('\\t - Thời gian valid: {:.2f} ms'.format(mean_valid_time[-1] / 1e6))\n",
    "    print('\\t - Accuracy score:  {:.2f} %'.format(mean_accuracy_scores[-1] * 100))\n",
    "    print('\\t - F1 score:        {:.2f} %'.format(mean_f1_scores[-1] * 100))"
   ]
  },
  {
   "cell_type": "markdown",
   "metadata": {},
   "source": [
    "Giữ nguyên"
   ]
  },
  {
   "cell_type": "code",
   "execution_count": null,
   "metadata": {},
   "outputs": [
    {
     "data": {
      "image/png": "[encoded data removed]",
      "text/plain": [
       "<Figure size 1600x800 with 1 Axes>"
      ]
     },
     "metadata": {},
     "output_type": "display_data"
    }
   ],
   "source": [
    "import matplotlib.pyplot as plt\n",
    "\n",
    "plt.figure(figsize=(16,8))\n",
    "\n",
    "plt.title(\"Độ chính xác của mô hình Logistic Regression: \")\n",
    "plt.xlabel(\"Phương pháp hiệu chỉnh\")\n",
    "plt.ylabel(\"Độ chính xác %\")\n",
    "plt.bar(opt_solve, np.array(mean_accuracy_scores) * 100,color='crimson', width=0.5, label='Accuracy')\n",
    "plt.savefig('image/lreg_accuracy.png', facecolor = 'whitesmoke')\n",
    "plt.show()"
   ]
  },
  {
   "cell_type": "code",
   "execution_count": null,
   "metadata": {},
   "outputs": [],
   "source": [
    "lreg_model = LogisticRegression(solver='saga',penalty='l2',C=2,max_iter=MAX_ITER)\n",
    "lreg_model.fit(train_feature,y_train)\n",
    "path = 'data/saved/lreg_model.sav'\n",
    "pickle.dump(lreg_model, open(path, 'wb'))"
   ]
  },
  {
   "cell_type": "markdown",
   "metadata": {},
   "source": [
    "### **3. Multinomial Naive Bayes**\n",
    "Naive Bayes là một thuật toán phân lớp dựa trên định lý Bayes trong xác suất thông kê. Naive Bayes dựa trên 2 giả thuyết về dữ liệu đầu vào:\n",
    "- Các đặc trưng của dữ liệu đầu vào là độc lập với nhau\n",
    "- Các đặc trưng đầu vào có ảnh hưởng như nhau đối với đầu ra\n",
    "\n",
    "Chính vì 2 giả thuyết này gần như không bao giờ tồn tại trong thực tế nên thuật toán này được coi là \"ngây thơ\". Tuy nhiên thuật toán này lại có tốc độ tính toán nhanh, dễ cài đặt và cũng hiệu quả trong 1 số trường hợp nhất định.\n",
    "\n",
    "Multinomial Naive Bayes là loại thuật toán Naive Bayes hay được sử dụng với văn bản mà các vector được xây dựng dựa trên ý tưởng Bag-of-Words. Tuy nhiên với dữ liệu văn bản và bài toán phân loại chủ đề thì 2 giả thuyết của Naive Bayes là hoàn toàn không hợp lý. Bởi vì các từ trong một văn bản không hề độc lập với nhau và chúng cũng có ảnh hưởng khác nhau tới topic của văn bản. Vì vậy, mô hình này có thể sẽ cho kết quả không cao.\n",
    "\n",
    "Siêu tham số mô hình: Trong mô hình Multinomial Naive Bayes có sử dụng kỹ thuật Laplace Smoothing để hạn chế trường hợp nếu 1 từ mới xuất hiện sẽ làm cho xác xuất tổng thể của một văn bản bằng 0 bất kể các từ phía sau xuất hiện nhiều thế nào. Hệ số làm mềm $\\alpha$ là một số dương, khi $\\alpha$ càng lớn thì các xác suất xuất hiện của các từ sẽ càng \"mềm\". Danh sách $\\alpha$:\n",
    "\n",
    "$$\\alpha \\in \\{ 0.001, 0.005, 0.01, 0.05, 0.1, 0.5, 1, 2, 5, 8, 10 \\}$$"
   ]
  },
  {
   "cell_type": "code",
   "execution_count": null,
   "metadata": {},
   "outputs": [
    {
     "name": "stdout",
     "output_type": "stream",
     "text": [
      "Với alpha = 0.0001:\n",
      "\t - Thời gian train: 544.93 ms\n",
      "\t - Thời gian valid: 80.50 ms\n",
      "\t - Accuracy score:  83.15 %\n",
      "\t - F1 score:        81.45 %\n",
      "Với alpha = 0.001:\n",
      "\t - Thời gian train: 360.37 ms\n",
      "\t - Thời gian valid: 65.71 ms\n",
      "\t - Accuracy score:  84.02 %\n",
      "\t - F1 score:        82.11 %\n",
      "Với alpha = 0.003:\n",
      "\t - Thời gian train: 328.00 ms\n",
      "\t - Thời gian valid: 54.47 ms\n",
      "\t - Accuracy score:  84.40 %\n",
      "\t - F1 score:        82.50 %\n",
      "Với alpha = 0.005:\n",
      "\t - Thời gian train: 343.31 ms\n",
      "\t - Thời gian valid: 63.30 ms\n",
      "\t - Accuracy score:  84.67 %\n",
      "\t - F1 score:        82.72 %\n",
      "Với alpha = 0.01:\n",
      "\t - Thời gian train: 333.55 ms\n",
      "\t - Thời gian valid: 52.05 ms\n",
      "\t - Accuracy score:  84.67 %\n",
      "\t - F1 score:        82.31 %\n",
      "Với alpha = 0.05:\n",
      "\t - Thời gian train: 313.53 ms\n",
      "\t - Thời gian valid: 54.51 ms\n",
      "\t - Accuracy score:  81.78 %\n",
      "\t - F1 score:        74.53 %\n",
      "Với alpha = 0.1:\n",
      "\t - Thời gian train: 381.68 ms\n",
      "\t - Thời gian valid: 65.64 ms\n",
      "\t - Accuracy score:  78.15 %\n",
      "\t - F1 score:        66.15 %\n",
      "Với alpha = 0.5:\n",
      "\t - Thời gian train: 320.39 ms\n",
      "\t - Thời gian valid: 57.74 ms\n",
      "\t - Accuracy score:  69.54 %\n",
      "\t - F1 score:        50.27 %\n",
      "Với alpha = 1:\n",
      "\t - Thời gian train: 359.44 ms\n",
      "\t - Thời gian valid: 56.88 ms\n",
      "\t - Accuracy score:  66.28 %\n",
      "\t - F1 score:        45.88 %\n",
      "Với alpha = 2:\n",
      "\t - Thời gian train: 336.11 ms\n",
      "\t - Thời gian valid: 65.79 ms\n",
      "\t - Accuracy score:  62.71 %\n",
      "\t - F1 score:        41.93 %\n",
      "Với alpha = 5:\n",
      "\t - Thời gian train: 302.59 ms\n",
      "\t - Thời gian valid: 45.89 ms\n",
      "\t - Accuracy score:  56.57 %\n",
      "\t - F1 score:        35.93 %\n"
     ]
    }
   ],
   "source": [
    "alphas = [0.0001, 0.001, 0.003, 0.005, 0.01, 0.05, 0.1, 0.5, 1, 2, 5]\n",
    "mean_accuracy_scores = []\n",
    "mean_f1_scores = []\n",
    "mean_train_time = []\n",
    "mean_valid_time = []\n",
    "for a in alphas:\n",
    "    # định nghĩa model\n",
    "    model = MultinomialNB(alpha=a)\n",
    "\n",
    "    accs = []\n",
    "    f1s = []\n",
    "    train_times = []\n",
    "    valid_times = []\n",
    "\n",
    "    for train_index, valid_index in spliter.split(x_train, y_train):\n",
    "        # train model\n",
    "        start = time.time_ns()\n",
    "        model.fit(train_feature[train_index], y_train[train_index])\n",
    "        train_times.append(time.time_ns() - start)\n",
    "\n",
    "        # valid model\n",
    "        start = time.time_ns()\n",
    "        y_pred = model.predict(train_feature[valid_index])\n",
    "        valid_times.append(time.time_ns() - start)\n",
    "\n",
    "        # evaluate model\n",
    "        accs.append(accuracy_score(y_train[valid_index], y_pred))\n",
    "        f1s.append(f1_score(y_train[valid_index], y_pred, average='macro'))\n",
    "\n",
    "    mean_train_time.append(np.mean(train_times))\n",
    "    mean_valid_time.append(np.mean(valid_times))\n",
    "    mean_accuracy_scores.append(np.mean(accs))\n",
    "    mean_f1_scores.append(np.mean(f1s))\n",
    "\n",
    "    print(f'Với alpha = {a}:')\n",
    "    print('\\t - Thời gian train: {:.2f} ms'.format(mean_train_time[-1] / 1e6))\n",
    "    print('\\t - Thời gian valid: {:.2f} ms'.format(mean_valid_time[-1] / 1e6))\n",
    "    print('\\t - Accuracy score:  {:.2f} %'.format(mean_accuracy_scores[-1] * 100))\n",
    "    print('\\t - F1 score:        {:.2f} %'.format(mean_f1_scores[-1] * 100))"
   ]
  },
  {
   "cell_type": "code",
   "execution_count": null,
   "metadata": {},
   "outputs": [
    {
     "data": {
      "image/png": "[encoded data removed]",
      "text/plain": [
       "<Figure size 1600x800 with 1 Axes>"
      ]
     },
     "metadata": {},
     "output_type": "display_data"
    }
   ],
   "source": [
    "import matplotlib.pyplot as plt\n",
    "plt.figure(figsize=(16, 8))\n",
    "plt.title('Độ chính xác của mô hình Multinomial Naive Bayes theo hệ số làm mềm')\n",
    "plt.xlabel('Hệ số làm mềm alpha')\n",
    "plt.ylabel('Độ chính xác (%)')\n",
    "plt.plot(alphas, np.array(mean_accuracy_scores) * 100, 'ro-')\n",
    "plt.plot(alphas, np.array(mean_f1_scores) * 100, 'bo-')\n",
    "plt.legend(['Accuracy', 'F1'], loc='best')\n",
    "plt.savefig('image/mnb_accuracy.png', facecolor='whitesmoke')\n",
    "plt.show()"
   ]
  },
  {
   "cell_type": "code",
   "execution_count": 27,
   "metadata": {},
   "outputs": [],
   "source": [
    "mnb = MultinomialNB(alpha=0.005)\n",
    "pickle.dump(mnb,open('data/saved/mnb_model.sav','wb'))"
   ]
  },
  {
   "cell_type": "markdown",
   "metadata": {},
   "source": [
    "### **4. Logistic Regression với PCA**"
   ]
  },
  {
   "cell_type": "code",
   "execution_count": null,
   "metadata": {},
   "outputs": [],
   "source": [
    "mean_accuracy_scores = []\n",
    "mean_f1_scores = []\n",
    "mean_train_time = []\n",
    "mean_valid_time = []\n",
    "\n",
    "opt_solve = ['newton-cg','lbfgs','liblinear','sag','saga']\n",
    "MAX_ITER = 100_000\n",
    "for opt in opt_solve:\n",
    "    model = LogisticRegression(solver=opt,penalty='l2',C=2,max_iter=MAX_ITER)\n",
    "    accs = []\n",
    "    f1s = []\n",
    "    train_times = []\n",
    "    valid_times = []\n",
    "    for train_index, valid_index in spliter.split(x_train, y_train):\n",
    "        # train model\n",
    "        start = time.time_ns()\n",
    "        model.fit(train_features_pca[train_index], y_train[train_index])\n",
    "        train_times.append(time.time_ns() - start)\n",
    "\n",
    "        # valid model\n",
    "        start = time.time_ns()\n",
    "        y_pred = model.predict(train_features_pca[valid_index])\n",
    "        valid_times.append(time.time_ns() - start)\n",
    "\n",
    "        # evaluate model\n",
    "        accs.append(accuracy_score(y_train[valid_index], y_pred))\n",
    "        f1s.append(f1_score(y_train[valid_index], y_pred, average='macro'))\n",
    "\n",
    "    mean_train_time.append(np.mean(train_times))\n",
    "    mean_valid_time.append(np.mean(valid_times))\n",
    "    mean_accuracy_scores.append(np.mean(accs))\n",
    "    mean_f1_scores.append(np.mean(f1s))\n",
    "    print(f'Với phuong phap hieu chinh = {opt}:')\n",
    "    print('\\t - Thời gian train: {:.2f} ms'.format(mean_train_time[-1] / 1e6))\n",
    "    print('\\t - Thời gian valid: {:.2f} ms'.format(mean_valid_time[-1] / 1e6))\n",
    "    print('\\t - Accuracy score:  {:.2f} %'.format(mean_accuracy_scores[-1] * 100))\n",
    "    print('\\t - F1 score:        {:.2f} %'.format(mean_f1_scores[-1] * 100))"
   ]
  },
  {
   "cell_type": "markdown",
   "metadata": {},
   "source": [
    "### *Đánh giá trên tập test*"
   ]
  },
  {
   "cell_type": "code",
   "execution_count": 28,
   "metadata": {},
   "outputs": [],
   "source": [
    "mnb = pickle.load(open('data/saved/mnb_model.sav', 'rb'))\n",
    "lreg = pickle.load(open('data/saved/lreg_model.sav', 'rb'))\n",
    "#lreg_pca = pickle.load(open('Data/saved/lreg_pca_best.sav', 'rb'))"
   ]
  },
  {
   "cell_type": "code",
   "execution_count": 29,
   "metadata": {},
   "outputs": [],
   "source": [
    "test_features = feature_extractor.fit_transform(x_test)"
   ]
  },
  {
   "cell_type": "code",
   "execution_count": 30,
   "metadata": {},
   "outputs": [
    {
     "data": {
      "text/plain": [
       "(9620, 62954)"
      ]
     },
     "execution_count": 30,
     "metadata": {},
     "output_type": "execute_result"
    }
   ],
   "source": [
    "test_features = feature_extractor.transform(x_test)\n",
    "\n",
    "test_features.shape"
   ]
  },
  {
   "cell_type": "code",
   "execution_count": 36,
   "metadata": {},
   "outputs": [
    {
     "ename": "ValueError",
     "evalue": "X has 62954 features, but MultinomialNB is expecting 94138 features as input.",
     "output_type": "error",
     "traceback": [
      "\u001b[0;31m---------------------------------------------------------------------------\u001b[0m",
      "\u001b[0;31mValueError\u001b[0m                                Traceback (most recent call last)",
      "Cell \u001b[0;32mIn[36], line 3\u001b[0m\n\u001b[1;32m      1\u001b[0m start \u001b[38;5;241m=\u001b[39m time\u001b[38;5;241m.\u001b[39mtime()\n\u001b[1;32m      2\u001b[0m mnb\u001b[38;5;241m.\u001b[39mfit(train_feature, y_train)\n\u001b[0;32m----> 3\u001b[0m y_pred \u001b[38;5;241m=\u001b[39m \u001b[43mmnb\u001b[49m\u001b[38;5;241;43m.\u001b[39;49m\u001b[43mpredict\u001b[49m\u001b[43m(\u001b[49m\u001b[43mtest_features\u001b[49m\u001b[43m)\u001b[49m\n\u001b[1;32m      4\u001b[0m \u001b[38;5;28mprint\u001b[39m(\u001b[38;5;124m'\u001b[39m\u001b[38;5;124mMultinomial Naive Bayes\u001b[39m\u001b[38;5;124m'\u001b[39m)\n\u001b[1;32m      5\u001b[0m \u001b[38;5;28mprint\u001b[39m(\u001b[38;5;124m'\u001b[39m\u001b[38;5;124mAccuracy: \u001b[39m\u001b[38;5;132;01m{:.2f}\u001b[39;00m\u001b[38;5;124m \u001b[39m\u001b[38;5;124m%\u001b[39m\u001b[38;5;124m'\u001b[39m\u001b[38;5;241m.\u001b[39mformat(accuracy_score(y_test, y_pred) \u001b[38;5;241m*\u001b[39m \u001b[38;5;241m100\u001b[39m))\n",
      "File \u001b[0;32m~/anaconda3/envs/py38/lib/python3.8/site-packages/sklearn/naive_bayes.py:80\u001b[0m, in \u001b[0;36m_BaseNB.predict\u001b[0;34m(self, X)\u001b[0m\n\u001b[1;32m     66\u001b[0m \u001b[38;5;250m\u001b[39m\u001b[38;5;124;03m\"\"\"\u001b[39;00m\n\u001b[1;32m     67\u001b[0m \u001b[38;5;124;03mPerform classification on an array of test vectors X.\u001b[39;00m\n\u001b[1;32m     68\u001b[0m \n\u001b[0;32m   (...)\u001b[0m\n\u001b[1;32m     77\u001b[0m \u001b[38;5;124;03m    Predicted target values for X.\u001b[39;00m\n\u001b[1;32m     78\u001b[0m \u001b[38;5;124;03m\"\"\"\u001b[39;00m\n\u001b[1;32m     79\u001b[0m check_is_fitted(\u001b[38;5;28mself\u001b[39m)\n\u001b[0;32m---> 80\u001b[0m X \u001b[38;5;241m=\u001b[39m \u001b[38;5;28;43mself\u001b[39;49m\u001b[38;5;241;43m.\u001b[39;49m\u001b[43m_check_X\u001b[49m\u001b[43m(\u001b[49m\u001b[43mX\u001b[49m\u001b[43m)\u001b[49m\n\u001b[1;32m     81\u001b[0m jll \u001b[38;5;241m=\u001b[39m \u001b[38;5;28mself\u001b[39m\u001b[38;5;241m.\u001b[39m_joint_log_likelihood(X)\n\u001b[1;32m     82\u001b[0m \u001b[38;5;28;01mreturn\u001b[39;00m \u001b[38;5;28mself\u001b[39m\u001b[38;5;241m.\u001b[39mclasses_[np\u001b[38;5;241m.\u001b[39margmax(jll, axis\u001b[38;5;241m=\u001b[39m\u001b[38;5;241m1\u001b[39m)]\n",
      "File \u001b[0;32m~/anaconda3/envs/py38/lib/python3.8/site-packages/sklearn/naive_bayes.py:549\u001b[0m, in \u001b[0;36m_BaseDiscreteNB._check_X\u001b[0;34m(self, X)\u001b[0m\n\u001b[1;32m    547\u001b[0m \u001b[38;5;28;01mdef\u001b[39;00m \u001b[38;5;21m_check_X\u001b[39m(\u001b[38;5;28mself\u001b[39m, X):\n\u001b[1;32m    548\u001b[0m \u001b[38;5;250m    \u001b[39m\u001b[38;5;124;03m\"\"\"Validate X, used only in predict* methods.\"\"\"\u001b[39;00m\n\u001b[0;32m--> 549\u001b[0m     \u001b[38;5;28;01mreturn\u001b[39;00m \u001b[38;5;28;43mself\u001b[39;49m\u001b[38;5;241;43m.\u001b[39;49m\u001b[43m_validate_data\u001b[49m\u001b[43m(\u001b[49m\u001b[43mX\u001b[49m\u001b[43m,\u001b[49m\u001b[43m \u001b[49m\u001b[43maccept_sparse\u001b[49m\u001b[38;5;241;43m=\u001b[39;49m\u001b[38;5;124;43m\"\u001b[39;49m\u001b[38;5;124;43mcsr\u001b[39;49m\u001b[38;5;124;43m\"\u001b[39;49m\u001b[43m,\u001b[49m\u001b[43m \u001b[49m\u001b[43mreset\u001b[49m\u001b[38;5;241;43m=\u001b[39;49m\u001b[38;5;28;43;01mFalse\u001b[39;49;00m\u001b[43m)\u001b[49m\n",
      "File \u001b[0;32m~/anaconda3/envs/py38/lib/python3.8/site-packages/sklearn/base.py:600\u001b[0m, in \u001b[0;36mBaseEstimator._validate_data\u001b[0;34m(self, X, y, reset, validate_separately, **check_params)\u001b[0m\n\u001b[1;32m    597\u001b[0m     out \u001b[38;5;241m=\u001b[39m X, y\n\u001b[1;32m    599\u001b[0m \u001b[38;5;28;01mif\u001b[39;00m \u001b[38;5;129;01mnot\u001b[39;00m no_val_X \u001b[38;5;129;01mand\u001b[39;00m check_params\u001b[38;5;241m.\u001b[39mget(\u001b[38;5;124m\"\u001b[39m\u001b[38;5;124mensure_2d\u001b[39m\u001b[38;5;124m\"\u001b[39m, \u001b[38;5;28;01mTrue\u001b[39;00m):\n\u001b[0;32m--> 600\u001b[0m     \u001b[38;5;28;43mself\u001b[39;49m\u001b[38;5;241;43m.\u001b[39;49m\u001b[43m_check_n_features\u001b[49m\u001b[43m(\u001b[49m\u001b[43mX\u001b[49m\u001b[43m,\u001b[49m\u001b[43m \u001b[49m\u001b[43mreset\u001b[49m\u001b[38;5;241;43m=\u001b[39;49m\u001b[43mreset\u001b[49m\u001b[43m)\u001b[49m\n\u001b[1;32m    602\u001b[0m \u001b[38;5;28;01mreturn\u001b[39;00m out\n",
      "File \u001b[0;32m~/anaconda3/envs/py38/lib/python3.8/site-packages/sklearn/base.py:400\u001b[0m, in \u001b[0;36mBaseEstimator._check_n_features\u001b[0;34m(self, X, reset)\u001b[0m\n\u001b[1;32m    397\u001b[0m     \u001b[38;5;28;01mreturn\u001b[39;00m\n\u001b[1;32m    399\u001b[0m \u001b[38;5;28;01mif\u001b[39;00m n_features \u001b[38;5;241m!=\u001b[39m \u001b[38;5;28mself\u001b[39m\u001b[38;5;241m.\u001b[39mn_features_in_:\n\u001b[0;32m--> 400\u001b[0m     \u001b[38;5;28;01mraise\u001b[39;00m \u001b[38;5;167;01mValueError\u001b[39;00m(\n\u001b[1;32m    401\u001b[0m         \u001b[38;5;124mf\u001b[39m\u001b[38;5;124m\"\u001b[39m\u001b[38;5;124mX has \u001b[39m\u001b[38;5;132;01m{\u001b[39;00mn_features\u001b[38;5;132;01m}\u001b[39;00m\u001b[38;5;124m features, but \u001b[39m\u001b[38;5;132;01m{\u001b[39;00m\u001b[38;5;28mself\u001b[39m\u001b[38;5;241m.\u001b[39m\u001b[38;5;18m__class__\u001b[39m\u001b[38;5;241m.\u001b[39m\u001b[38;5;18m__name__\u001b[39m\u001b[38;5;132;01m}\u001b[39;00m\u001b[38;5;124m \u001b[39m\u001b[38;5;124m\"\u001b[39m\n\u001b[1;32m    402\u001b[0m         \u001b[38;5;124mf\u001b[39m\u001b[38;5;124m\"\u001b[39m\u001b[38;5;124mis expecting \u001b[39m\u001b[38;5;132;01m{\u001b[39;00m\u001b[38;5;28mself\u001b[39m\u001b[38;5;241m.\u001b[39mn_features_in_\u001b[38;5;132;01m}\u001b[39;00m\u001b[38;5;124m features as input.\u001b[39m\u001b[38;5;124m\"\u001b[39m\n\u001b[1;32m    403\u001b[0m     )\n",
      "\u001b[0;31mValueError\u001b[0m: X has 62954 features, but MultinomialNB is expecting 94138 features as input."
     ]
    }
   ],
   "source": [
    "start = time.time()\n",
    "y_pred = mnb.predict(test_features)\n",
    "print('Multinomial Naive Bayes')\n",
    "print('Accuracy: {:.2f} %'.format(accuracy_score(y_test, y_pred) * 100))\n",
    "print('F1 score: {:.2f} %'.format(f1_score(y_test, y_pred, average='macro') * 100))\n",
    "print('Thời gian dự đoán: {:.2f} ms'.format((time.time() - start) * 1000))\n",
    "print(confusion_matrix(y_test, y_pred))"
   ]
  }
 ],
 "metadata": {
  "kernelspec": {
   "display_name": "py38",
   "language": "python",
   "name": "python3"
  },
  "language_info": {
   "codemirror_mode": {
    "name": "ipython",
    "version": 3
   },
   "file_extension": ".py",
   "mimetype": "text/x-python",
   "name": "python",
   "nbconvert_exporter": "python",
   "pygments_lexer": "ipython3",
   "version": "3.8.18"
  }
 },
 "nbformat": 4,
 "nbformat_minor": 2
}
