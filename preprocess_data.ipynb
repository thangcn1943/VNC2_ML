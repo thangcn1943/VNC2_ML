{
 "cells": [
  {
   "cell_type": "code",
   "execution_count": 8,
   "metadata": {
    "metadata": {}
   },
   "outputs": [],
   "source": [
    "import pandas as pd\n",
    "import numpy as np\n",
    "import matplotlib.pyplot as plt\n",
    "import pickle\n",
    "import regex as re\n",
    "import random\n",
    "import math\n",
    "import os\n",
    "from tqdm.notebook import tqdm\n",
    "import pyreadstat"
   ]
  },
  {
   "cell_type": "code",
   "execution_count": 10,
   "metadata": {
    "metadata": {}
   },
   "outputs": [
    {
     "data": {
      "text/plain": [
       "array(['Triển lãm MEVS - triển lãm dành riêng cho xe điện sẽ diễn ra tại Sân vận động Olympic Montreal từ ngày 21-23/4/2023 với sự xuất hiện của hơn 50 mẫu xe điện đến từ hơn 20 thương hiệu ô tô trên thế giới.Lần đầu tham dự MEVS 2023, VinFast sẽ giới thiệu 2 mẫu xe điện chủ lực của năm nay là VF 8 và VF 9. Khách tham quan có thể tìm hiểu thông tin sản phẩm và chính sách bán hàng của VinFast.Bà Nguyễn Thị Vân Anh, Tổng Giám đốc VinFast Bắc Mỹ chia sẻ: “Là một thương hiệu thuần điện, với mục tiêu thúc đẩy cuộc cách mạng xe điện toàn cầu, VinFast tự hào góp mặt tại triển lãm xe điện lớn nhất Canada ngay sau Triển lãm Ô tô Quốc tế Montreal hồi tháng 1. VinFast cũng đã ra mắt người tiêu dùng Canada thông qua cửa hàng VinFast Store mở tại Laval. Và giờ đây, chúng tôi rất hào hứng được mang đến cơ hội được lái thử chiếc xe VF 8 lần đầu tiên cho khách hàng Quebec.”VF 8 hiện là mẫu xe chủ đạo của VinFast tại các thị trường quốc tế. VF 8 bản Eco có giá từ $57.500 CAD và VF 8 Plus có giá từ $63.490 CAD. Ngoài ra, bản Plus cũng có thêm tuỳ chọn nâng cấp công suất từ 260kW lên 300kW với mức giá tăng thêm $1.500 CAD/xe.VF 9 là mẫu SUV cỡ đại và là mẫu xe lớn nhất trong dải xe điện của VinFast với chiều dài cơ sở lên tới 3.150 mm. VF 9 có cấu tạo tối giản và tinh tế, mang tới không gian nội thất rộng rãi và tối ưu cho thiết kế 7 chỗ full-size hoặc 6 chỗ ngồi (tuỳ chọn ghế cơ trưởng).VinFast VF 8 và VF 9 được trang bị nhiều tính năng công nghệ hiện đại như hệ thống trợ lái nâng cao (ADAS) cùng các ứng dụng tiện ích và giải trí thông minh (Smart Services). Ngoài ra, cả hai mẫu xe còn sở hữu nhiều tính năng ưu việt khác như màn hình giải trí trung tâm 15,6 inch, màn hình hiển thị HUD trên kính lái, 11 túi khí, màn hình giải trí 8 inch cho hàng ghế thứ hai (VF 9 Plus), hệ thống hai hàng ghế trước tích hợp thông gió và sưởi (VF 8 Plus và VF 9 Plus); trần kính toàn cảnh (VF 9 Plus), gương chiếu hậu ngoài xe chống chói tự động (VF 8 và VF 9 Plus).Dự kiến VF 8 và VF 9 sẽ lần lượt được bàn giao cho khách hàng Canada từ tháng 6 và từ Quý III năm nay./.',\n",
       "       'Chuyến phà từ Ozu sẽ đưa du khách đến đảo Aoshima, thuộc tỉnh Ehime, trong vòng 20 phút. Hòn đảo dân cư thưa thớt đã trở thành điểm thu hút khách du lịch đông đúc, nhưng không có cửa hàng, khách sạn hay nhà hàng nào ở đây.Những gì Aoshima có là mèo - rất rất nhiều mèo. Người ta từng đếm có hơn 200 con mèo sinh sống trên hòn đảo nhỏ bé có chiều dài chỉ 1,6 km này, rộng cả thảy 46 ha và \"dân số\" mèo đang tăng không ngừng hàng ngày.“Trước đây tôi hiếm khi chở khách du lịch,” phà trưởng Nobuyuki Ninomiya nói với báo chí. “Bây giờ tôi chở khách du lịch mỗi tuần, mặc dù sản phẩm du lịch duy nhất chúng tôi có là mèo”.Những con mèo đã quen với con người và do đó được coi là bán hoang dã. Chúng vui vẻ chơi đùa với du khách và thậm chí còn có khu vực cho ăn được chỉ định gần trung tâm cộng đồng.Nhưng làm thế nào mà hòn đảo xa xôi này trở nên tràn ngập mèo?Ngư dân xưa kia đã mang những con mèo đi lạc đến hòn đảo này để diệt chuột và không có kẻ săn mồi nào khác đe dọa, mèo đã sinh sản \"con đàn cháu đống\" mà không gặp bất kỳ trở ngại.Người dân địa phương cũng có xu hướng cho mèo ăn quá nhiều, đặc biệt là những người già trên đảo. Họ thừa nhận làm thế để tình bạn với con vật được gắn bó hơn. Mặc dù vậy, không một người yêu mèo nào có thể đổ lỗi cho họ về điều đó.Nhật Bản cũng không phải là nơi duy nhất có nhiều đảo mèo. Cho đến gần đây, Mỹ có ít nhất 18 đảo mèo và Úc có lúc tới 15 đảo.Điều đáng chú ý là cả Mỹ và Úc đều có ý định xóa sổ quần thể mèo trên những đảo đó. Việc loại bỏ quần thể mèo ở Aoshima cũng đã được đề cập, vì theo các nhà nghiên cứu về Aoshima cho biết, mèo tự sắp xếp theo thứ bậc, trong đó những con đực tranh giành lãnh thổ và những con cái của chúng tranh giành thức ăn. Với quá nhiều sự cạnh tranh, các nhà nghiên cứu về mèo lập luận rằng điều kiện sống ở nơi được gọi là \"thiên đường mèo\" này chẳng có gì là thiên đường. Với quá nhiều sự cạnh tranh, mèo con thường chết trước khi trưởng thành vì đói, bệnh tật và thậm chí, có tình trạng giết mèo con vốn chỉ xảy ra ở sư tử.Khi mùa đông đến và không có du khách, những con mèo trở nên đói khát. \"Vào mùa xuân và mùa hè, khách du lịch mang theo thức ăn để cho mèo ăn nhưng khi trời trở lạnh, biển động thì không ai đến. Đôi khi thuyền không thể quay lại khi biển động\", Kazuyki Ono nói thêm.Đảo Aoshima từng là một làng chài trù phú. Hơn 900 người sinh sống trên đảo vào giữa thế kỷ trước Ngày nay, chỉ còn lại một số ít cư dân lớn tuổi không di dời sau Thế chiến thứ hai. Trên thực tế, tính đến năm 2019, chỉ có 6 cư dân định cư chính thức ở đảo.Một nhiếp ảnh gia có tên Fubirai đã dành vài năm để ghi lại những chú mèo trên đảo. Vào năm 2012, những bức ảnh đã lan truyền với sự trợ giúp của Buzzfeed và dẫn đến bùng nổ du lịch cho đến ngày nay. Nhưng ngoài ra, thật không may, Aoshima không hẳn là một trung tâm du lịch nhộn nhịp. Không có khách sạn, nhà hàng, cửa hiệu hay thậm chí là máy bán hàng tự động.Nếu bạn đang lên kế hoạch đến thăm Aoshima, hãy mang theo mọi đồ dùng cá nhân và mang tất cả rác về nhà.',\n",
       "       'Sony giới thiệu ổ 2 lớp 8x DVD+R\\nHôm qua, hãng điện tử Nhật Bản đã công bố ổ DRU-810A, và trở thành một trong những công ty đầu tiên bán ra sản phẩm theo chuẩn 8x mà Hiệp hội DVD+RW đã chấp thuận từ tháng 3 tại Hội chợ CeBIT 2005 diễn ra ở Hannover, Đức.\\nDRU-810A là ổ trong kết nối với thiết bị trung tâm qua giao diện Ultra DMA Mode 2 ATAPI. Bên cạnh chuẩn 8x DVD+R DL, ổ cũng hỗ trợ DVD+R DL 4x. Ngoài ra, sản phẩm còn cho phép ghi đĩa DVD+RW với tốc độ 8x, DVDR 16x và DVD-RW 6x.\\nSony đã thiết kế DRU-810A với 2 mặt bạc và đen để phù hợp với bất cứ hệ thống nào mà ổ được nối vào. Sản phẩm được phát hành cùng bộ phần mềm Nero với tổng giá thành là 88 USD.\\nMitsubishi cũng vừa tuyên bố sẽ giới thiệu đĩa DVD+R DL 8x trong tháng 10. Đĩa này có dung lượng 8,5 GB, được thiết kế dựa trên công nghệ \"chất hữu cơ độ nhạy cao\" nhằm hỗ trợ ghi từ 2,4x đến 8x và tốc độ truyền dữ liệu tối đa 209,25 Mb/giây.\\n\\n',\n",
       "       ...,\n",
       "       'Giao dịch tuần đi xuống \\nĐóng cửa phiên giao dịch cuối cùng trong tuần, sáng nay VN-Index chỉ đạt 246,51 điểm, giảm 0,27 điểm so với cuối tuần trước. Tính trung bình khối lượng khớp lệnh trong tuần đạt xấp xỉ 230.000 cổ phiếu/phiên, kém xa so với tuần trước.\\nNếu như đầu tuần giá trị giao dịch toàn thị trường đạt 5,3 tỷ đồng thì sáng nay xuống còn 4,8 tỷ. Khối lượng khớp lệnh thấp nhất trong tuần với 211.240 cổ phiếu.\\nTrong nhóm cổ phiếu tăng giá, BBT và MHC tiếp tục thu hút chú ý của nhà đầu tư và luôn dẫn đầu thị trường về khối lượng khớp lệnh. Trong phiên giao dịch sáng nay MHC lên giá 200 đồng, và có khối lượng khớp lệnh cao nhất 49.880 cổ phiếu, BBT giảm 100 đồng song vẫn đứng thứ 2 về lượng giao dịch với 32.800 cổ phiếu.\\nVF1 vẫn giao dịch nhỏ giọt do đã hết room với nhà đầu tư nước ngoài. Trong tuần, khối lượng khớp lệnh trung bình 30.000 chứng chỉ/phiên, giá đóng cửa giảm 100 đồng xuống 8.700 đồng so với cuối tuần trước.\\nTheo dự kiến, đầu tuần tới TTCK TP HCM sẽ đón cổ phiếu thứ 29 lên sàn - Công ty cổ phần văn hóa Phương Nam (PNC). Giới đầu tư đánh giá, nếu không có sự thay đổi về chính sách, thị trường sẽ đón lần sinh nhật thứ năm (20/7) không mấy hào hứng, do phần lớn công ty niêm yết có quy mô nhỏ. Một nhà đầu tư nhận định, với chính sách như hiện nay, đột phá chỉ xảy ra khi chợ chứng khoán có thêm các đại gia góp mặt.\\n\\n',\n",
       "       'Mua bếp điện từ\\nBếp điện từ tiết kiệm điện năng hơn; có bàn phím điện tử với các chức năng tiện dụng như điều chỉnh công suất (nhiệt độ nấu), mức tiêu thụ điện năng, hẹn giờ. Nhược điểm của nó là chỉ sử dụng được với loại nồi kim loại sắt từ và có đáy bằng phẳng.\\nTrên thị trường đang xuất hiện khá phổ biến một loại bếp mới - bếp điện từ hoạt động nhờ năng lượng của dòng điện cảm ứng. Với kiểu dáng nhỏ gọn, tính năng độc đáo, bếp điện từ đang là lựa chọn của nhiều người tiêu dùng.\\nVới hiệu suất nhiệt đạt đến 85%, việc nấu nướng với bếp điện từ sẽ rất nhanh so với các loại bếp khác. Bếp không tạo khói lửa, tránh gây cháy, bảo đảm độ an toàn cao và giúp việc nấu nướng sạch sẽ, có thể chùi mặt bếp ngay khi nấu. Theo kỹ sư Trần Quế, Trưởng phòng kỹ thuật siêu thị Điện máy Chợ Lớn, bếp điện từ có độ bền cao do sử dụng vật liệu cao cấp, hệ thống kiểm soát nhiệt độ khá chính xác, an toàn. \\nTính năng độc đáo của bếp là nhiệt lượng tạo ra từ các thiết bị sẽ được tập trung vào mâm làm nóng, khi nấu không làm nóng các vật xung quanh. Nhờ vậy, bếp điện từ tiết kiệm điện năng hơn. Bếp có bàn phím điện tử với các chức năng tiện dụng như điều chỉnh công suất (nhiệt độ nấu), mức tiêu thụ điện năng, hẹn giờ.\\nTuy nhiên, loại bếp này có nhược điểm là chỉ sử dụng được với loại nồi có đáy bằng phẳng và phải là kim loại sắt từ như: inox hít nam châm, sắt niken, nồi sứ có đáy tráng sắt hoặc nồi men& Các vật dụng nồi đất, thủy tinh chịu nhiệt, nồi xoong chảo bằng đồng hoặc nhôm thì sử dụng với bếp điện từ không tốt. \\nTrên thị trường hiện nay có khá nhiều loại bếp điện từ. Loại có giá 500-650 ngàn đồng thường là do Đài Loan, Trung Quốc sản xuất với các nhãn hiệu như Banti, Oddy, Gali& Loại có giá 700-900 nghìn đồng thường do Công ty cơ khí Nam Hồng (Việt Nam) sản xuất hoặc mang nhãn hiệu Gali (Trung Quốc).\\nLoại thứ ba là dòng sản phẩm cao cấp với mỗi bộ từ 23 đến 25,5 triệu đồng như bếp Teka của Tây Ban Nha với thời gian bảo hành 2 năm. Một bộ gồm 4 bếp với 2 kiểu dáng; kiểu hình chữ nhật có 4 lò cảm ứng và kiểu oval có 2 lò cảm ứng cùng 2 bếp điện thường. Mặt bếp được thiết kế bằng kính chịu nhiệt trên 3.000 độ C và chịu được trọng lực của vật nặng 8 kg rơi từ độ cao 50 cm.\\n\\n',\n",
       "       ' Điểm thưởng: bỏ hay giữ? Nhận thấy đây cũng là nội dung được bạn đọc đặc biệt quan tâm, chúng tôi xin trích đăng các ý kiến tham gia, khác nhau cả về quan điểm và nhận định...\\nTiêu cực không phải chỉ do điểm thưởng \\nNhiều người phản đối điểm cộng vì họ nhìn thấy quá nhiều tiêu cực và đánh đồng những tiêu cực của thầy cô, trường lớp là do nguyên nhân điểm thưởng. Bỏ điểm thưởng trong hoàn cảnh hiện nay của nền giáo dục VN (coi trọng cánh cửa ĐH như lối vào đời duy nhất) đồng nghĩa với việc khuyến khích các em không cần quan tâm đến kết quả học phổ thông: tốt nghiệp trung bình cũng được, miễn là thi đậu ĐH. Lúc này tiêu cực do việc các em xem thường các môn phụ, môn không thi ĐH sẽ còn đáng báo động hơn, cả về mặt đạo đức lẫn kiến thức. \\nViệc cộng điểm thưởng là coi trọng thành tích phấn đấu trong thời gian dài của các em.Phủ nhận hết quá trình phấn đấu này để xem xét kết quả trong một kỳ thi liệu có là công bằng với các em? Không nên bỏ điểm thưởng chỉ vì những tiêu cực phát sinh từ nó. Vấn đề là phải tìm cách trong sạch hóa hàng ngũ giáo viên, có nhiều biện pháp thanh tra chấn chỉnh... \\nBạn đọc Võ Tần Vinh (Cần Thơ) cũng bày tỏ sự đồng tình với ông Ngô Kim Khôi (phó vụ trưởng Vụ Đại học và sau đại học), vì với đề thi tuyển sinh bám sát chương trình phổ thông, thì học sinh giỏi nhiều năm liền thì không cần cộng điểm cũng có nhiều khả năng trúng tuyển.Loại bỏ điểm thưởng trong tuyển sinh đầu vào ĐH-CĐ chính là góp một phần làm trong sạch hệ thống giáo dục - đào tạo, loại bỏ được những suy nghĩ “ung nhọt” tiêu cực của một bộ phận thích lợi dụng quyền lực và đồng tiền để đạt mục đích không đẹp về mình.\\nChúng tôi sẽ đề nghị lãnh đạo bộ, Ban chỉ đạo thi và tuyển sinh xem xét để đưa vấn đề này ra thảo luận trong hội nghị tuyển sinh năm nay, lấy ý kiến các trường, các sở, cân nhắc đi đến thống nhất để chính thức đưa vào qui chế tuyển sinh bỏ chế độ cộng điểm thưởng. \\nMọi cá nhân phải đứng cùng một vạch xuất phát \\nHãy thử tưởng tượng: một em được 23 điểm vẫn trượt ĐH, trong khi một em 21 điểm lại đỗ vì được cộng 3 điểm ưu tiên. Đương nhiên điểm số không thể phản ánh chính xác trình độ cá nhân, bởi nhiều khi có hiện tượng “học tài thi phận”. \\nNhưng ở một nền giáo dục vẫn lấy điểm số làm căn cốt để phân loại, đánh giá và tuyển chọn thì trong bất cứ bối cảnh nào nó cũng phải được coi là một thước đo chuẩn mực. Và như thế em học sinh được 23 điểm rõ ràng phải có trình độ cao hơn em 21 điểm. Vậy mà vì chính sách điểm ưu tiên, người giỏi hơn bị loại, người yếu hơn trúng tuyển. \\nMục đích của một nền giáo dục xét tới cùng là tạo nên một đội ngũ trí thức cho đất nước. Muốn thực hiện công việc này một cách hiệu quả, trong giáo dục mọi cá nhân phải đứng cùng một vạch xuất phát. Vì chỉ có như vậy sự sàng chọn mới đảm bảo tính khách quan và cho ra những nghiệm số “an toàn”. \\nTừ góc nhìn này, rõ ràng không có lý do gì em học sinh 23 điểm bị loại, còn em 21 điểm đàng hoàng ngồi trên ghế giảng đường. Đấy là sự bất công ghê gớm nếu không muốn nói là sẽ tạo ra một lực cản đối với sự phát triển. \\nBởi thế, người viết đồng tình với quan điểm những ai cần được bù đắp, cần được ưu tiên sẽ được ưu tiên ở chỗ khác. \\nRiêng trong giáo dục, chỉ có một thước đo duy nhất là năng lực và tri thức. Chỉ khi nào chúng ta tôn trọng điều này một cách tuyệt đối thì những người tài (động lực cho sự phát triển) mới được tận dụng tối đa. \\nQuan trọng là vai trò kiểm soát của ngành giáo dục \\nBạn đọc Kiều Lê, cho biết: Tôi là một trong những thí sinh được cộng 1,5 điểm thưởng trong kỳ thi tuyển sinh 2003. Số điểm này chỉ có giá trị tinh thần vì tôi đã trúng tuyển mà không cần dùng đến nó. Tôi có cảm giác mọi người xem việc cộng điểm thưởng cho chúng tôi là không công bằng mà không quan tâm đến việc để có được nó chúng tôi đã cố gắng học tập như thế nào. \\nTôi mạo muội vẽ ra viễn cảnh nếu qui định về điểm thưởng bị xóa bỏ, học sinh sẽ học các môn không thi ĐH với tâm trạng đối phó, miễn sao trên trung bình và chúng ta sẽ có rất nhiều học sinh giỏi toán không biết sử và giỏi văn chẳng biết gì về toán. Theo tôi, ở đây quan trọng nhất là vai trò quản lý và kiểm soát của Bộ GD-ĐT. Qui định bản thân nó không bất công mà chính cái cách người ta lợi dụng nó để phát sinh tiêu cực (mua điểm). Vì vậy không thể chỉ vì một số trường hợp thí sinh có điểm thưởng được vào ĐH trong khi cùng số điểm với thí sinh không có điểm thưởng (không trúng tuyển) mà thay đổi qui định. \\n1.032 học sinh “giỏi” nhưng điểm thi ĐH không vượt qua ngưỡng 15 điểm/3 môn. Đó là con số tra cứu trên mạng của năm trường ĐH Kinh tế quốc dân, Kinh tế TP.HCM, Cần Thơ, Thương mại và Nông lâm TP.HCM. Con số này thực tế sẽ lớn hơn rất nhiều lần nếu tra cứu tất cả các trường ĐH tuyển sinh năm 2005. \\nTheo giáo sư toán học Văn Như Cương: “Đề thi ĐH năm nay không hề khó so với đề thi tốt nghiệp phổ thông. Như vậy với những học sinh đã tốt nghiệp loại giỏi, bài làm của các em phải đạt ít nhất là 20 điểm chứ không thể dưới mức trung bình. Chẳng qua chúng ta đã làm tương đối nghiêm túc trong coi thi và chấm thi ĐH. Ngược lại, khi trong coi thi tốt nghiệp cũng như khi xét học bạ cho học sinh phổ thông các địa phương lại làm chưa nghiêm túc”. \\nNhiều trường ĐH cho rằng bộ nên “cắt” chế độ cộng điểm thưởng, thay vào đó là hình thức cấp học bổng hay nhiều hình thức khuyến học khác mà vẫn khuyến khích được học sinh học tập. Bởi lẽ nhiều thí sinh được cộng điểm học sinh giỏi nhưng vẫn trượt ĐH, ngược lại nhiều thí sinh đậu ĐH mà đâu cần đến điểm thưởng hay điểm cộng. Với hình thức thi tuyển “ba chung” như đang áp dụng hiện nay, những học sinh giỏi thực chất đậu ĐH không phải là chuyện ngoài tầm tay (nếu như không muốn nói là hiển nhiên) mà không cần những điểm thưởng hay điểm cộng đó. \\nÔng Ngô Kim Khôi (Phó vụ trưởng vụ ĐH&amp;SĐH): \\nKhông nên giữ qui định cộng điểm thưởng \\nTheo tôi, không nên giữ qui định cộng điểm thưởng trong kỳ thi tuyển sinh ĐH, CĐ. Vì đề thi tuyển sinh chỉ nằm trong phạm vi, bám sát chương trình và SGK phổ thông, nếu đã thật sự là những HS giỏi ở bậc THPT, thi tốt nghiệp THPT đạt loại giỏi thì không cần cộng điểm cũng sẽ trúng tuyển ĐH. \\nVề cơ bản, chúng tôi thống nhất đã đến thời điểm cần xem xét lại qui định cộng điểm thưởng cho HS tốt nghiệp THPT loại giỏi. Tất nhiên xem xét theo hướng có nên tiếp tục áp dụng nữa hay không. Ý kiến trong bức thư của em nữ sinh gửi tới Thứ trưởng Bành Tiến Long cũng phản ánh phần nào dư luận trong đối tượng HS. Ngoài ra, chúng tôi cũng nhận được nhiều ý kiến phản ảnh, đề nghị khác về những bất hợp lý khi thực hiện chế độ cộng điểm thưởng. Mới đây, Ủy ban Văn hóa giáo dục thanh thiếu niên nhi đồng của Quốc hội cũng yêu cầu chúng tôi thống kê, đánh giá về kết quả thi tuyển sinh và kết quả học tập tại trường ĐH, CĐ của những HS đã được cộng điểm thưởng. \\n\\n'],\n",
       "      dtype=object)"
      ]
     },
     "execution_count": 10,
     "metadata": {},
     "output_type": "execute_result"
    }
   ],
   "source": [
    "x_train = pickle.load(open('data/train_x_raw.sav','rb'))\n",
    "x_train"
   ]
  },
  {
   "cell_type": "code",
   "execution_count": 11,
   "metadata": {},
   "outputs": [
    {
     "ename": "ReadstatError",
     "evalue": "Invalid file, or file has unsupported features",
     "output_type": "error",
     "traceback": [
      "\u001b[0;31m---------------------------------------------------------------------------\u001b[0m",
      "\u001b[0;31mReadstatError\u001b[0m                             Traceback (most recent call last)",
      "Cell \u001b[0;32mIn[11], line 1\u001b[0m\n\u001b[0;32m----> 1\u001b[0m x_train2 \u001b[38;5;241m=\u001b[39m \u001b[43mpd\u001b[49m\u001b[38;5;241;43m.\u001b[39;49m\u001b[43mread_spss\u001b[49m\u001b[43m(\u001b[49m\u001b[38;5;124;43m'\u001b[39;49m\u001b[38;5;124;43mdata/train_x_raw.sav\u001b[39;49m\u001b[38;5;124;43m'\u001b[39;49m\u001b[43m)\u001b[49m\n",
      "File \u001b[0;32m~/anaconda3/envs/py38/lib/python3.8/site-packages/pandas/io/spss.py:62\u001b[0m, in \u001b[0;36mread_spss\u001b[0;34m(path, usecols, convert_categoricals, dtype_backend)\u001b[0m\n\u001b[1;32m     59\u001b[0m         \u001b[38;5;28;01mraise\u001b[39;00m \u001b[38;5;167;01mTypeError\u001b[39;00m(\u001b[38;5;124m\"\u001b[39m\u001b[38;5;124musecols must be list-like.\u001b[39m\u001b[38;5;124m\"\u001b[39m)\n\u001b[1;32m     60\u001b[0m     usecols \u001b[38;5;241m=\u001b[39m \u001b[38;5;28mlist\u001b[39m(usecols)  \u001b[38;5;66;03m# pyreadstat requires a list\u001b[39;00m\n\u001b[0;32m---> 62\u001b[0m df, _ \u001b[38;5;241m=\u001b[39m \u001b[43mpyreadstat\u001b[49m\u001b[38;5;241;43m.\u001b[39;49m\u001b[43mread_sav\u001b[49m\u001b[43m(\u001b[49m\n\u001b[1;32m     63\u001b[0m \u001b[43m    \u001b[49m\u001b[43mstringify_path\u001b[49m\u001b[43m(\u001b[49m\u001b[43mpath\u001b[49m\u001b[43m)\u001b[49m\u001b[43m,\u001b[49m\u001b[43m \u001b[49m\u001b[43musecols\u001b[49m\u001b[38;5;241;43m=\u001b[39;49m\u001b[43musecols\u001b[49m\u001b[43m,\u001b[49m\u001b[43m \u001b[49m\u001b[43mapply_value_formats\u001b[49m\u001b[38;5;241;43m=\u001b[39;49m\u001b[43mconvert_categoricals\u001b[49m\n\u001b[1;32m     64\u001b[0m \u001b[43m\u001b[49m\u001b[43m)\u001b[49m\n\u001b[1;32m     65\u001b[0m \u001b[38;5;28;01mif\u001b[39;00m dtype_backend \u001b[38;5;129;01mis\u001b[39;00m \u001b[38;5;129;01mnot\u001b[39;00m lib\u001b[38;5;241m.\u001b[39mno_default:\n\u001b[1;32m     66\u001b[0m     df \u001b[38;5;241m=\u001b[39m df\u001b[38;5;241m.\u001b[39mconvert_dtypes(dtype_backend\u001b[38;5;241m=\u001b[39mdtype_backend)\n",
      "File \u001b[0;32mpyreadstat/pyreadstat.pyx:389\u001b[0m, in \u001b[0;36mpyreadstat.pyreadstat.read_sav\u001b[0;34m()\u001b[0m\n",
      "File \u001b[0;32mpyreadstat/_readstat_parser.pyx:1137\u001b[0m, in \u001b[0;36mpyreadstat._readstat_parser.run_conversion\u001b[0;34m()\u001b[0m\n",
      "File \u001b[0;32mpyreadstat/_readstat_parser.pyx:882\u001b[0m, in \u001b[0;36mpyreadstat._readstat_parser.run_readstat_parser\u001b[0;34m()\u001b[0m\n",
      "File \u001b[0;32mpyreadstat/_readstat_parser.pyx:804\u001b[0m, in \u001b[0;36mpyreadstat._readstat_parser.check_exit_status\u001b[0;34m()\u001b[0m\n",
      "\u001b[0;31mReadstatError\u001b[0m: Invalid file, or file has unsupported features"
     ]
    }
   ],
   "source": [
    "x_train2 = pd.read_spss('data/train_x_raw.sav')"
   ]
  },
  {
   "cell_type": "code",
   "execution_count": 3,
   "metadata": {
    "metadata": {}
   },
   "outputs": [
    {
     "name": "stdout",
     "output_type": "stream",
     "text": [
      "Do dai trung binh cua tap du lieu truoc tien xu li:  530.2749509891285\n"
     ]
    }
   ],
   "source": [
    "def sentence_len(text):\n",
    "    return len(text.split(\" \"))\n",
    "sizes = []\n",
    "for content in x_train:\n",
    "    sizes.append(sentence_len(content))\n",
    "print(\"Do dai trung binh cua tap du lieu truoc tien xu li: \", np.mean(sizes))"
   ]
  },
  {
   "cell_type": "code",
   "execution_count": 4,
   "metadata": {
    "metadata": {}
   },
   "outputs": [
    {
     "data": {
      "image/png": "[encoded data removed]",
      "text/plain": [
       "<Figure size 1600x800 with 1 Axes>"
      ]
     },
     "metadata": {},
     "output_type": "display_data"
    }
   ],
   "source": [
    "plt.figure(figsize=(16,8))\n",
    "plt.title(\"Độ dài các tin tức\")\n",
    "plt.xlabel(\"Độ dài (từ)\")\n",
    "plt.ylabel(\"Số tin tức\")\n",
    "plt.hist(np.array(sizes), bins=int(math.sqrt(len(sizes))), histtype='step', range=(0, 4000))\n",
    "plt.savefig('image/dataset_before_preprocess.png', facecolor='whitesmoke', bbox_inches='tight')\n",
    "plt.show()"
   ]
  },
  {
   "cell_type": "code",
   "execution_count": 5,
   "metadata": {
    "metadata": {}
   },
   "outputs": [],
   "source": [
    "labels = np.unique(y_train)"
   ]
  },
  {
   "cell_type": "code",
   "execution_count": 6,
   "metadata": {
    "metadata": {}
   },
   "outputs": [
    {
     "data": {
      "text/plain": [
       "array(['Am nhac', 'Am thuc', 'Bat dong san', 'Bong da', 'Chung khoan',\n",
       "       'Cum ga', 'Cuoc song do day', 'Du hoc', 'Du lich', 'Duong vao WTO',\n",
       "       'Gia dinh', 'Giai tri tin hoc', 'Giao duc', 'Gioi tinh',\n",
       "       'Hackers va Virus', 'Hinh su', 'Khong gian song',\n",
       "       'Kinh doanh quoc te', 'Kinh te', 'Lam dep', 'Loi song', 'Mua sam',\n",
       "       'My thuat', 'San khau dien anh', 'San pham tin hoc moi',\n",
       "       'Suc khoe', 'Tennis', 'The gioi tre', 'Thoi trang', 'Xe co'],\n",
       "      dtype=object)"
      ]
     },
     "execution_count": 6,
     "metadata": {},
     "output_type": "execute_result"
    }
   ],
   "source": [
    "labels"
   ]
  },
  {
   "cell_type": "code",
   "execution_count": 7,
   "metadata": {
    "metadata": {}
   },
   "outputs": [
    {
     "data": {
      "text/plain": [
       "{'Am nhac': 1296,\n",
       " 'Am thuc': 528,\n",
       " 'Bat dong san': 458,\n",
       " 'Bong da': 2567,\n",
       " 'Chung khoan': 513,\n",
       " 'Cum ga': 661,\n",
       " 'Cuoc song do day': 1174,\n",
       " 'Du hoc': 765,\n",
       " 'Du lich': 1102,\n",
       " 'Duong vao WTO': 289,\n",
       " 'Gia dinh': 375,\n",
       " 'Giai tri tin hoc': 1328,\n",
       " 'Giao duc': 1348,\n",
       " 'Gioi tinh': 446,\n",
       " 'Hackers va Virus': 489,\n",
       " 'Hinh su': 395,\n",
       " 'Khong gian song': 150,\n",
       " 'Kinh doanh quoc te': 985,\n",
       " 'Kinh te': 540,\n",
       " 'Lam dep': 1077,\n",
       " 'Loi song': 425,\n",
       " 'Mua sam': 206,\n",
       " 'My thuat': 259,\n",
       " 'San khau dien anh': 1667,\n",
       " 'San pham tin hoc moi': 1093,\n",
       " 'Suc khoe': 165,\n",
       " 'Tennis': 630,\n",
       " 'The gioi tre': 759,\n",
       " 'Thoi trang': 542,\n",
       " 'Xe co': 212}"
      ]
     },
     "execution_count": 7,
     "metadata": {},
     "output_type": "execute_result"
    }
   ],
   "source": [
    "label_len = {}\n",
    "for label in labels:\n",
    "    label_len[label] = np.count_nonzero(y_train == label)\n",
    "label_len"
   ]
  },
  {
   "cell_type": "code",
   "execution_count": 8,
   "metadata": {
    "metadata": {}
   },
   "outputs": [
    {
     "data": {
      "image/png": "[encoded data removed]",
      "text/plain": [
       "<Figure size 6000x3000 with 1 Axes>"
      ]
     },
     "metadata": {},
     "output_type": "display_data"
    }
   ],
   "source": [
    "plt.figure(figsize=(60,30))\n",
    "plt.title('Số lượng datapoint với mỗi nhãn trong tập huấn luyện')\n",
    "plt.bar(list(label_len.keys()), label_len.values(), color='g')\n",
    "plt.show()"
   ]
  },
  {
   "cell_type": "markdown",
   "metadata": {},
   "source": [
    "## Tiền xử lý gồm những việc sau:\n",
    "- Xoá HTML code\n",
    "- Chuẩn hóa bảng mã Unicode\n",
    "- Chuẩn hóa kiểu gõ dấu tiếng Việt (dùng òa úy thay cho oà uý)\n",
    "- Đưa văn bản về dạng viết thường\n",
    "- Thực hiện tách từ tiếng Việt\n",
    "- Xóa các ký tự đặc biệt\n",
    "- Loại bỏ stopwords"
   ]
  },
  {
   "cell_type": "markdown",
   "metadata": {},
   "source": [
    "### 1. Xoa code HTML\n"
   ]
  },
  {
   "cell_type": "code",
   "execution_count": 9,
   "metadata": {},
   "outputs": [
    {
     "data": {
      "text/plain": [
       "'Đây là 1 ví dụ xoá html code'"
      ]
     },
     "execution_count": 9,
     "metadata": {},
     "output_type": "execute_result"
    }
   ],
   "source": [
    "# trong khi crawl du lieu co the du lai cac ki tu html\n",
    "# xoa bo code html bang regex\n",
    "import re\n",
    "def remove_html(text):\n",
    "    return re.sub(r'<[^>]*>', '', text)\n",
    "txt = \"<p class=\\\"par\\\">Đây là 1 ví dụ xoá html code</p>\"\n",
    "remove_html(txt)"
   ]
  },
  {
   "cell_type": "markdown",
   "metadata": {},
   "source": [
    "### 2. Chuan hoa bang ma unicode\n",
    "- Hien nay co 2 loai bang ma thuong dung do la Unicode dung san va Unicode to hop\n",
    "- Unicode dung san kha pho bien nen ta se chuyen tu Unicode to hop ve Unicode dung san"
   ]
  },
  {
   "cell_type": "code",
   "execution_count": 10,
   "metadata": {
    "metadata": {}
   },
   "outputs": [
    {
     "name": "stdout",
     "output_type": "stream",
     "text": [
      "False\n",
      "True\n",
      "True\n"
     ]
    }
   ],
   "source": [
    "def compound_unicode(unicode_str):\n",
    "  \"\"\"\n",
    "  Chuyển đổi chuỗi Unicode Tổ Hợp sang Unicode Dựng Sẵn\n",
    "  Edited from: `https://gist.github.com/redphx/9320735`\n",
    "  \"\"\"\n",
    "  unicode_str = unicode_str.replace(\"\\u0065\\u0309\", \"\\u1EBB\")    # ẻ\n",
    "  unicode_str = unicode_str.replace(\"\\u0065\\u0301\", \"\\u00E9\")    # é\n",
    "  unicode_str = unicode_str.replace(\"\\u0065\\u0300\", \"\\u00E8\")    # è\n",
    "  unicode_str = unicode_str.replace(\"\\u0065\\u0323\", \"\\u1EB9\")    # ẹ\n",
    "  unicode_str = unicode_str.replace(\"\\u0065\\u0303\", \"\\u1EBD\")    # ẽ\n",
    "  unicode_str = unicode_str.replace(\"\\u00EA\\u0309\", \"\\u1EC3\")    # ể\n",
    "  unicode_str = unicode_str.replace(\"\\u00EA\\u0301\", \"\\u1EBF\")    # ế\n",
    "  unicode_str = unicode_str.replace(\"\\u00EA\\u0300\", \"\\u1EC1\")    # ề\n",
    "  unicode_str = unicode_str.replace(\"\\u00EA\\u0323\", \"\\u1EC7\")    # ệ\n",
    "  unicode_str = unicode_str.replace(\"\\u00EA\\u0303\", \"\\u1EC5\")    # ễ\n",
    "  unicode_str = unicode_str.replace(\"\\u0079\\u0309\", \"\\u1EF7\")    # ỷ\n",
    "  unicode_str = unicode_str.replace(\"\\u0079\\u0301\", \"\\u00FD\")    # ý\n",
    "  unicode_str = unicode_str.replace(\"\\u0079\\u0300\", \"\\u1EF3\")    # ỳ\n",
    "  unicode_str = unicode_str.replace(\"\\u0079\\u0323\", \"\\u1EF5\")    # ỵ\n",
    "  unicode_str = unicode_str.replace(\"\\u0079\\u0303\", \"\\u1EF9\")    # ỹ\n",
    "  unicode_str = unicode_str.replace(\"\\u0075\\u0309\", \"\\u1EE7\")    # ủ\n",
    "  unicode_str = unicode_str.replace(\"\\u0075\\u0301\", \"\\u00FA\")    # ú\n",
    "  unicode_str = unicode_str.replace(\"\\u0075\\u0300\", \"\\u00F9\")    # ù\n",
    "  unicode_str = unicode_str.replace(\"\\u0075\\u0323\", \"\\u1EE5\")    # ụ\n",
    "  unicode_str = unicode_str.replace(\"\\u0075\\u0303\", \"\\u0169\")    # ũ\n",
    "  unicode_str = unicode_str.replace(\"\\u01B0\\u0309\", \"\\u1EED\")    # ử\n",
    "  unicode_str = unicode_str.replace(\"\\u01B0\\u0301\", \"\\u1EE9\")    # ứ\n",
    "  unicode_str = unicode_str.replace(\"\\u01B0\\u0300\", \"\\u1EEB\")    # ừ\n",
    "  unicode_str = unicode_str.replace(\"\\u01B0\\u0323\", \"\\u1EF1\")    # ự\n",
    "  unicode_str = unicode_str.replace(\"\\u01B0\\u0303\", \"\\u1EEF\")    # ữ\n",
    "  unicode_str = unicode_str.replace(\"\\u0069\\u0309\", \"\\u1EC9\")    # ỉ\n",
    "  unicode_str = unicode_str.replace(\"\\u0069\\u0301\", \"\\u00ED\")    # í\n",
    "  unicode_str = unicode_str.replace(\"\\u0069\\u0300\", \"\\u00EC\")    # ì\n",
    "  unicode_str = unicode_str.replace(\"\\u0069\\u0323\", \"\\u1ECB\")    # ị\n",
    "  unicode_str = unicode_str.replace(\"\\u0069\\u0303\", \"\\u0129\")    # ĩ\n",
    "  unicode_str = unicode_str.replace(\"\\u006F\\u0309\", \"\\u1ECF\")    # ỏ\n",
    "  unicode_str = unicode_str.replace(\"\\u006F\\u0301\", \"\\u00F3\")    # ó\n",
    "  unicode_str = unicode_str.replace(\"\\u006F\\u0300\", \"\\u00F2\")    # ò\n",
    "  unicode_str = unicode_str.replace(\"\\u006F\\u0323\", \"\\u1ECD\")    # ọ\n",
    "  unicode_str = unicode_str.replace(\"\\u006F\\u0303\", \"\\u00F5\")    # õ\n",
    "  unicode_str = unicode_str.replace(\"\\u01A1\\u0309\", \"\\u1EDF\")    # ở\n",
    "  unicode_str = unicode_str.replace(\"\\u01A1\\u0301\", \"\\u1EDB\")    # ớ\n",
    "  unicode_str = unicode_str.replace(\"\\u01A1\\u0300\", \"\\u1EDD\")    # ờ\n",
    "  unicode_str = unicode_str.replace(\"\\u01A1\\u0323\", \"\\u1EE3\")    # ợ\n",
    "  unicode_str = unicode_str.replace(\"\\u01A1\\u0303\", \"\\u1EE1\")    # ỡ\n",
    "  unicode_str = unicode_str.replace(\"\\u00F4\\u0309\", \"\\u1ED5\")    # ổ\n",
    "  unicode_str = unicode_str.replace(\"\\u00F4\\u0301\", \"\\u1ED1\")    # ố\n",
    "  unicode_str = unicode_str.replace(\"\\u00F4\\u0300\", \"\\u1ED3\")    # ồ\n",
    "  unicode_str = unicode_str.replace(\"\\u00F4\\u0323\", \"\\u1ED9\")    # ộ\n",
    "  unicode_str = unicode_str.replace(\"\\u00F4\\u0303\", \"\\u1ED7\")    # ỗ\n",
    "  unicode_str = unicode_str.replace(\"\\u0061\\u0309\", \"\\u1EA3\")    # ả\n",
    "  unicode_str = unicode_str.replace(\"\\u0061\\u0301\", \"\\u00E1\")    # á\n",
    "  unicode_str = unicode_str.replace(\"\\u0061\\u0300\", \"\\u00E0\")    # à\n",
    "  unicode_str = unicode_str.replace(\"\\u0061\\u0323\", \"\\u1EA1\")    # ạ\n",
    "  unicode_str = unicode_str.replace(\"\\u0061\\u0303\", \"\\u00E3\")    # ã\n",
    "  unicode_str = unicode_str.replace(\"\\u0103\\u0309\", \"\\u1EB3\")    # ẳ\n",
    "  unicode_str = unicode_str.replace(\"\\u0103\\u0301\", \"\\u1EAF\")    # ắ\n",
    "  unicode_str = unicode_str.replace(\"\\u0103\\u0300\", \"\\u1EB1\")    # ằ\n",
    "  unicode_str = unicode_str.replace(\"\\u0103\\u0323\", \"\\u1EB7\")    # ặ\n",
    "  unicode_str = unicode_str.replace(\"\\u0103\\u0303\", \"\\u1EB5\")    # ẵ\n",
    "  unicode_str = unicode_str.replace(\"\\u00E2\\u0309\", \"\\u1EA9\")    # ẩ\n",
    "  unicode_str = unicode_str.replace(\"\\u00E2\\u0301\", \"\\u1EA5\")    # ấ\n",
    "  unicode_str = unicode_str.replace(\"\\u00E2\\u0300\", \"\\u1EA7\")    # ầ\n",
    "  unicode_str = unicode_str.replace(\"\\u00E2\\u0323\", \"\\u1EAD\")    # ậ\n",
    "  unicode_str = unicode_str.replace(\"\\u00E2\\u0303\", \"\\u1EAB\")    # ẫ\n",
    "  unicode_str = unicode_str.replace(\"\\u0045\\u0309\", \"\\u1EBA\")    # Ẻ\n",
    "  unicode_str = unicode_str.replace(\"\\u0045\\u0301\", \"\\u00C9\")    # É\n",
    "  unicode_str = unicode_str.replace(\"\\u0045\\u0300\", \"\\u00C8\")    # È\n",
    "  unicode_str = unicode_str.replace(\"\\u0045\\u0323\", \"\\u1EB8\")    # Ẹ\n",
    "  unicode_str = unicode_str.replace(\"\\u0045\\u0303\", \"\\u1EBC\")    # Ẽ\n",
    "  unicode_str = unicode_str.replace(\"\\u00CA\\u0309\", \"\\u1EC2\")    # Ể\n",
    "  unicode_str = unicode_str.replace(\"\\u00CA\\u0301\", \"\\u1EBE\")    # Ế\n",
    "  unicode_str = unicode_str.replace(\"\\u00CA\\u0300\", \"\\u1EC0\")    # Ề\n",
    "  unicode_str = unicode_str.replace(\"\\u00CA\\u0323\", \"\\u1EC6\")    # Ệ\n",
    "  unicode_str = unicode_str.replace(\"\\u00CA\\u0303\", \"\\u1EC4\")    # Ễ\n",
    "  unicode_str = unicode_str.replace(\"\\u0059\\u0309\", \"\\u1EF6\")    # Ỷ\n",
    "  unicode_str = unicode_str.replace(\"\\u0059\\u0301\", \"\\u00DD\")    # Ý\n",
    "  unicode_str = unicode_str.replace(\"\\u0059\\u0300\", \"\\u1EF2\")    # Ỳ\n",
    "  unicode_str = unicode_str.replace(\"\\u0059\\u0323\", \"\\u1EF4\")    # Ỵ\n",
    "  unicode_str = unicode_str.replace(\"\\u0059\\u0303\", \"\\u1EF8\")    # Ỹ\n",
    "  unicode_str = unicode_str.replace(\"\\u0055\\u0309\", \"\\u1EE6\")    # Ủ\n",
    "  unicode_str = unicode_str.replace(\"\\u0055\\u0301\", \"\\u00DA\")    # Ú\n",
    "  unicode_str = unicode_str.replace(\"\\u0055\\u0300\", \"\\u00D9\")    # Ù\n",
    "  unicode_str = unicode_str.replace(\"\\u0055\\u0323\", \"\\u1EE4\")    # Ụ\n",
    "  unicode_str = unicode_str.replace(\"\\u0055\\u0303\", \"\\u0168\")    # Ũ\n",
    "  unicode_str = unicode_str.replace(\"\\u01AF\\u0309\", \"\\u1EEC\")    # Ử\n",
    "  unicode_str = unicode_str.replace(\"\\u01AF\\u0301\", \"\\u1EE8\")    # Ứ\n",
    "  unicode_str = unicode_str.replace(\"\\u01AF\\u0300\", \"\\u1EEA\")    # Ừ\n",
    "  unicode_str = unicode_str.replace(\"\\u01AF\\u0323\", \"\\u1EF0\")    # Ự\n",
    "  unicode_str = unicode_str.replace(\"\\u01AF\\u0303\", \"\\u1EEE\")    # Ữ\n",
    "  unicode_str = unicode_str.replace(\"\\u0049\\u0309\", \"\\u1EC8\")    # Ỉ\n",
    "  unicode_str = unicode_str.replace(\"\\u0049\\u0301\", \"\\u00CD\")    # Í\n",
    "  unicode_str = unicode_str.replace(\"\\u0049\\u0300\", \"\\u00CC\")    # Ì\n",
    "  unicode_str = unicode_str.replace(\"\\u0049\\u0323\", \"\\u1ECA\")    # Ị\n",
    "  unicode_str = unicode_str.replace(\"\\u0049\\u0303\", \"\\u0128\")    # Ĩ\n",
    "  unicode_str = unicode_str.replace(\"\\u004F\\u0309\", \"\\u1ECE\")    # Ỏ\n",
    "  unicode_str = unicode_str.replace(\"\\u004F\\u0301\", \"\\u00D3\")    # Ó\n",
    "  unicode_str = unicode_str.replace(\"\\u004F\\u0300\", \"\\u00D2\")    # Ò\n",
    "  unicode_str = unicode_str.replace(\"\\u004F\\u0323\", \"\\u1ECC\")    # Ọ\n",
    "  unicode_str = unicode_str.replace(\"\\u004F\\u0303\", \"\\u00D5\")    # Õ\n",
    "  unicode_str = unicode_str.replace(\"\\u01A0\\u0309\", \"\\u1EDE\")    # Ở\n",
    "  unicode_str = unicode_str.replace(\"\\u01A0\\u0301\", \"\\u1EDA\")    # Ớ\n",
    "  unicode_str = unicode_str.replace(\"\\u01A0\\u0300\", \"\\u1EDC\")    # Ờ\n",
    "  unicode_str = unicode_str.replace(\"\\u01A0\\u0323\", \"\\u1EE2\")    # Ợ\n",
    "  unicode_str = unicode_str.replace(\"\\u01A0\\u0303\", \"\\u1EE0\")    # Ỡ\n",
    "  unicode_str = unicode_str.replace(\"\\u00D4\\u0309\", \"\\u1ED4\")    # Ổ\n",
    "  unicode_str = unicode_str.replace(\"\\u00D4\\u0301\", \"\\u1ED0\")    # Ố\n",
    "  unicode_str = unicode_str.replace(\"\\u00D4\\u0300\", \"\\u1ED2\")    # Ồ\n",
    "  unicode_str = unicode_str.replace(\"\\u00D4\\u0323\", \"\\u1ED8\")    # Ộ\n",
    "  unicode_str = unicode_str.replace(\"\\u00D4\\u0303\", \"\\u1ED6\")    # Ỗ\n",
    "  unicode_str = unicode_str.replace(\"\\u0041\\u0309\", \"\\u1EA2\")    # Ả\n",
    "  unicode_str = unicode_str.replace(\"\\u0041\\u0301\", \"\\u00C1\")    # Á\n",
    "  unicode_str = unicode_str.replace(\"\\u0041\\u0300\", \"\\u00C0\")    # À\n",
    "  unicode_str = unicode_str.replace(\"\\u0041\\u0323\", \"\\u1EA0\")    # Ạ\n",
    "  unicode_str = unicode_str.replace(\"\\u0041\\u0303\", \"\\u00C3\")    # Ã\n",
    "  unicode_str = unicode_str.replace(\"\\u0102\\u0309\", \"\\u1EB2\")    # Ẳ\n",
    "  unicode_str = unicode_str.replace(\"\\u0102\\u0301\", \"\\u1EAE\")    # Ắ\n",
    "  unicode_str = unicode_str.replace(\"\\u0102\\u0300\", \"\\u1EB0\")    # Ằ\n",
    "  unicode_str = unicode_str.replace(\"\\u0102\\u0323\", \"\\u1EB6\")    # Ặ\n",
    "  unicode_str = unicode_str.replace(\"\\u0102\\u0303\", \"\\u1EB4\")    # Ẵ\n",
    "  unicode_str = unicode_str.replace(\"\\u00C2\\u0309\", \"\\u1EA8\")    # Ẩ\n",
    "  unicode_str = unicode_str.replace(\"\\u00C2\\u0301\", \"\\u1EA4\")    # Ấ\n",
    "  unicode_str = unicode_str.replace(\"\\u00C2\\u0300\", \"\\u1EA6\")    # Ầ\n",
    "  unicode_str = unicode_str.replace(\"\\u00C2\\u0323\", \"\\u1EAC\")    # Ậ\n",
    "  unicode_str = unicode_str.replace(\"\\u00C2\\u0303\", \"\\u1EAA\")    # Ẫ\n",
    "  return unicode_str\n",
    "#Thử nghiệm\n",
    "type1 = 'hiếu' # Loại dựng sẵn\n",
    "type2 = 'hiếu' # Loại tổ hợp\n",
    "\n",
    "print(type1 == type2)\n",
    "# Nếu là loại dựng sẵn thì không thay đổi\n",
    "print(type1 == compound_unicode(type1))\n",
    "# Nếu là loại tổ hợp thì sẽ đưa về loại dựng sẵn\n",
    "print(type1 == compound_unicode(type2))"
   ]
  },
  {
   "cell_type": "markdown",
   "metadata": {},
   "source": [
    "### 3. Chuan hoa kieu go Tieng Viet va dua ve chu viet thuong"
   ]
  },
  {
   "cell_type": "code",
   "execution_count": 11,
   "metadata": {},
   "outputs": [],
   "source": [
    "bang_nguyen_am = [['a', 'à', 'á', 'ả', 'ã', 'ạ', 'a'],\n",
    "                  ['ă', 'ằ', 'ắ', 'ẳ', 'ẵ', 'ặ', 'aw'],\n",
    "                  ['â', 'ầ', 'ấ', 'ẩ', 'ẫ', 'ậ', 'aa'],\n",
    "                  ['e', 'è', 'é', 'ẻ', 'ẽ', 'ẹ', 'e'],\n",
    "                  ['ê', 'ề', 'ế', 'ể', 'ễ', 'ệ', 'ee'],\n",
    "                  ['i', 'ì', 'í', 'ỉ', 'ĩ', 'ị', 'i'],\n",
    "                  ['o', 'ò', 'ó', 'ỏ', 'õ', 'ọ', 'o'],\n",
    "                  ['ô', 'ồ', 'ố', 'ổ', 'ỗ', 'ộ', 'oo'],\n",
    "                  ['ơ', 'ờ', 'ớ', 'ở', 'ỡ', 'ợ', 'ow'],\n",
    "                  ['u', 'ù', 'ú', 'ủ', 'ũ', 'ụ', 'u'],\n",
    "                  ['ư', 'ừ', 'ứ', 'ử', 'ữ', 'ự', 'uw'],\n",
    "                  ['y', 'ỳ', 'ý', 'ỷ', 'ỹ', 'ỵ', 'y']]\n",
    "bang_ky_tu_dau = ['', 'f', 's', 'r', 'x', 'j']\n",
    "\n",
    "nguyen_am_to_ids = {}\n",
    "\n",
    "for i in range(len(bang_nguyen_am)):\n",
    "    for j in range(len(bang_nguyen_am[i]) - 1):\n",
    "        nguyen_am_to_ids[bang_nguyen_am[i][j]] = (i, j)\n"
   ]
  },
  {
   "cell_type": "code",
   "execution_count": 12,
   "metadata": {},
   "outputs": [],
   "source": [
    "def chuan_hoa_dau_tu_tieng_viet(word):\n",
    "    if not is_valid_vietnam_word(word):\n",
    "        return word\n",
    "\n",
    "    chars = list(word)\n",
    "    dau_cau = 0\n",
    "    nguyen_am_index = []\n",
    "    qu_or_gi = False\n",
    "    for index, char in enumerate(chars):\n",
    "        x, y = nguyen_am_to_ids.get(char, (-1, -1))\n",
    "        if x == -1:\n",
    "            continue\n",
    "        elif x == 9:  # check qu\n",
    "            if index != 0 and chars[index - 1] == 'q':\n",
    "                chars[index] = 'u'\n",
    "                qu_or_gi = True\n",
    "        elif x == 5:  # check gi\n",
    "            if index != 0 and chars[index - 1] == 'g':\n",
    "                chars[index] = 'i'\n",
    "                qu_or_gi = True\n",
    "        if y != 0:\n",
    "            dau_cau = y\n",
    "            chars[index] = bang_nguyen_am[x][0]\n",
    "        if not qu_or_gi or index != 1:\n",
    "            nguyen_am_index.append(index)\n",
    "    if len(nguyen_am_index) < 2:\n",
    "        if qu_or_gi:\n",
    "            if len(chars) == 2:\n",
    "                x, y = nguyen_am_to_ids.get(chars[1])\n",
    "                chars[1] = bang_nguyen_am[x][dau_cau]\n",
    "            else:\n",
    "                x, y = nguyen_am_to_ids.get(chars[2], (-1, -1))\n",
    "                if x != -1:\n",
    "                    chars[2] = bang_nguyen_am[x][dau_cau]\n",
    "                else:\n",
    "                    chars[1] = bang_nguyen_am[5][dau_cau] if chars[1] == 'i' else bang_nguyen_am[9][dau_cau]\n",
    "            return ''.join(chars)\n",
    "        return word\n",
    "\n",
    "    for index in nguyen_am_index:\n",
    "        x, y = nguyen_am_to_ids[chars[index]]\n",
    "        if x == 4 or x == 8:  # ê, ơ\n",
    "            chars[index] = bang_nguyen_am[x][dau_cau]\n",
    "            # for index2 in nguyen_am_index:\n",
    "            #     if index2 != index:\n",
    "            #         x, y = nguyen_am_to_ids[chars[index]]\n",
    "            #         chars[index2] = bang_nguyen_am[x][0]\n",
    "            return ''.join(chars)\n",
    "\n",
    "    if len(nguyen_am_index) == 2:\n",
    "        if nguyen_am_index[-1] == len(chars) - 1:\n",
    "            x, y = nguyen_am_to_ids[chars[nguyen_am_index[0]]]\n",
    "            chars[nguyen_am_index[0]] = bang_nguyen_am[x][dau_cau]\n",
    "            # x, y = nguyen_am_to_ids[chars[nguyen_am_index[1]]]\n",
    "            # chars[nguyen_am_index[1]] = bang_nguyen_am[x][0]\n",
    "        else:\n",
    "            # x, y = nguyen_am_to_ids[chars[nguyen_am_index[0]]]\n",
    "            # chars[nguyen_am_index[0]] = bang_nguyen_am[x][0]\n",
    "            x, y = nguyen_am_to_ids[chars[nguyen_am_index[1]]]\n",
    "            chars[nguyen_am_index[1]] = bang_nguyen_am[x][dau_cau]\n",
    "    else:\n",
    "        # x, y = nguyen_am_to_ids[chars[nguyen_am_index[0]]]\n",
    "        # chars[nguyen_am_index[0]] = bang_nguyen_am[x][0]\n",
    "        x, y = nguyen_am_to_ids[chars[nguyen_am_index[1]]]\n",
    "        chars[nguyen_am_index[1]] = bang_nguyen_am[x][dau_cau]\n",
    "        # x, y = nguyen_am_to_ids[chars[nguyen_am_index[2]]]\n",
    "        # chars[nguyen_am_index[2]] = bang_nguyen_am[x][0]\n",
    "    return ''.join(chars)\n",
    "\n",
    "\n",
    "def is_valid_vietnam_word(word):\n",
    "    chars = list(word)\n",
    "    nguyen_am_index = -1\n",
    "    for index, char in enumerate(chars):\n",
    "        x, y = nguyen_am_to_ids.get(char, (-1, -1))\n",
    "        if x != -1:\n",
    "            if nguyen_am_index == -1:\n",
    "                nguyen_am_index = index\n",
    "            else:\n",
    "                if index - nguyen_am_index != 1:\n",
    "                    return False\n",
    "                nguyen_am_index = index\n",
    "    return True\n",
    "\n",
    "\n",
    "def chuan_hoa_dau_cau_tieng_viet(sentence):\n",
    "    sentence = sentence.lower()\n",
    "    words = sentence.split()\n",
    "    for index, word in enumerate(words):\n",
    "        words[index] = chuan_hoa_dau_tu_tieng_viet(word)\n",
    "    return ' '.join(words)"
   ]
  },
  {
   "cell_type": "markdown",
   "metadata": {},
   "source": [
    "### 4. Tach tu Tieng Viet"
   ]
  },
  {
   "cell_type": "code",
   "execution_count": 13,
   "metadata": {
    "metadata": {}
   },
   "outputs": [
    {
     "name": "stdout",
     "output_type": "stream",
     "text": [
      "Đây là một ví_dụ minh_họa về cách sử_dụng VnTokenizer .\n",
      "Triển_lãm MEVS - triển_lãm dành riêng cho xe điện sẽ diễn ra tại Sân vận_động Olympic_Montreal từ ngày 21 - 23 / 4 / 2023 với sự xuất_hiện của hơn 50 mẫu xe điện đến từ hơn 20 thương_hiệu ô_tô trên thế_giới . Lần đầu tham_dự MEVS 2023 , VinFast sẽ giới_thiệu 2 mẫu xe điện chủ_lực của năm nay là VF 8 và VF 9 . Khách tham_quan có_thể tìm_hiểu thông_tin sản_phẩm và chính_sách bán hàng của VinFast . Bà Nguyễn_Thị_Vân Anh , Tổng_Giám_đốc VinFast Bắc_Mỹ chia_sẻ : “ Là một thương_hiệu thuần điện , với mục_tiêu thúc_đẩy cuộc cách_mạng xe điện toàn_cầu , VinFast tự_hào góp_mặt tại triển_lãm xe điện lớn nhất Canada ngay sau Triển_lãm Ô_tô Quốc_tế Montreal hồi tháng 1 . VinFast cũng đã ra_mắt người tiêu_dùng Canada thông_qua cửa_hàng VinFast Store mở tại Laval . Và giờ_đây , chúng_tôi rất hào_hứng được mang đến cơ_hội được lái thử chiếc xe VF 8 lần đầu_tiên cho khách_hàng Quebec . ” VF 8 hiện là mẫu xe chủ_đạo của VinFast tại các thị_trường quốc_tế . VF 8 bản Eco có_giá từ $ 57.500 CAD và VF 8 Plus có_giá từ $ 63.490 CAD. Ngoài_ra , bản Plus cũng có thêm tuỳ chọn nâng_cấp công_suất từ 260kW lên 300kW với mức giá tăng thêm $ 1.500 CAD / xe . VF 9 là mẫu SUV cỡ đại và là mẫu xe lớn nhất trong dải xe điện của VinFast với chiều dài cơ_sở lên tới 3.150 mm . VF 9 có cấu_tạo tối_giản và tinh_tế , mang tới không_gian nội_thất rộng_rãi và tối_ưu cho thiết_kế 7 chỗ full - size hoặc 6 chỗ ngồi ( tuỳ chọn ghế cơ_trưởng ) . VinFast VF 8 và VF 9 được trang_bị nhiều tính_năng công_nghệ hiện_đại như hệ_thống trợ lái nâng cao ( ADAS ) cùng các ứng_dụng tiện_ích và giải_trí thông_minh ( Smart_Services ) . Ngoài_ra , cả hai mẫu xe còn sở_hữu nhiều tính_năng ưu_việt khác như màn_hình giải_trí trung_tâm 15,6 inch , màn_hình hiển_thị HUD trên kính lái , 11 túi khí , màn_hình giải_trí 8 inch cho hàng ghế thứ hai ( VF 9 Plus ) , hệ_thống hai hàng ghế trước tích_hợp thông gió và sưởi ( VF 8 Plus và VF 9 Plus ) ; trần kính toàn_cảnh ( VF 9 Plus ) , gương chiếu hậu ngoài xe chống chói tự_động ( VF 8 và VF 9 Plus ) . Dự_kiến VF 8 và VF 9 sẽ lần_lượt được bàn_giao cho khách_hàng Canada từ tháng 6 và từ Quý III năm nay . / .\n"
     ]
    }
   ],
   "source": [
    "from pyvi import ViTokenizer\n",
    "\n",
    "text = \"Đây là một ví dụ minh họa về cách sử dụng VnTokenizer.\"\n",
    "tokens = ViTokenizer.tokenize(text)\n",
    "print(tokens)\n",
    "test = ViTokenizer.tokenize(x_train[0])\n",
    "print(test)"
   ]
  },
  {
   "cell_type": "markdown",
   "metadata": {},
   "source": [
    "### 5. Xoa bo cac ki tu khong can thiet"
   ]
  },
  {
   "cell_type": "markdown",
   "metadata": {},
   "source": [
    "Loại bỏ các ký tự không cần thiết giúp:\n",
    "- Giảm số chiều đặc trưng, tăng tốc độc học và xử lý\n",
    "- Tránh gây nhiễu, ảnh hưởng xấu tới kết quả mô hình"
   ]
  },
  {
   "cell_type": "code",
   "execution_count": 14,
   "metadata": {},
   "outputs": [],
   "source": [
    "def remove_unnecessary_character(document):\n",
    "    # Xoá các ký tự không cần thiết\n",
    "    document = re.sub(r'[^\\s\\wáàảãạăắằẳẵặâấầẩẫậéèẻẽẹêếềểễệóòỏõọôốồổỗộơớờởỡợíìỉĩịúùủũụưứừửữựýỳỷỹỵđ_]',' ',document)\n",
    "    # Xoá khoảng trắng thừa\n",
    "    document = re.sub(r'\\s+', ' ', document).strip()\n",
    "    return document"
   ]
  },
  {
   "cell_type": "code",
   "execution_count": 15,
   "metadata": {},
   "outputs": [
    {
     "data": {
      "text/plain": [
       "'19 4 Nếu bạn có bất kỳ câu hỏi hoặc cần thêm sự giúp đỡ nào khác đừng ngần ngại để tôi biết'"
      ]
     },
     "execution_count": 15,
     "metadata": {},
     "output_type": "execute_result"
    }
   ],
   "source": [
    "sentence = \"19/4 Nếu bạn có bất kỳ câu hỏi hoặc cần thêm sự giúp đỡ nào khác, đừng ngần ngại để tôi biết!\"\n",
    "remove_unnecessary_character(sentence)"
   ]
  },
  {
   "cell_type": "markdown",
   "metadata": {},
   "source": [
    "### 6. Hoan thanh cac buoc tren\n"
   ]
  },
  {
   "cell_type": "code",
   "execution_count": 16,
   "metadata": {},
   "outputs": [],
   "source": [
    "from pyvi import ViTokenizer\n",
    "def preprocess_data(vanban):\n",
    "    # Xoa code HTML\n",
    "    document = remove_html(vanban)\n",
    "\n",
    "    #Chuan hoa bang ma unicode\n",
    "    document = compound_unicode(document)\n",
    "\n",
    "    #Chuan hoa kieu go tieng viet va dua ve chua viet thuong\n",
    "    document = chuan_hoa_dau_cau_tieng_viet(document)\n",
    "\n",
    "    #Tach tu tieng Viet\n",
    "    document = ViTokenizer.tokenize(document)\n",
    "\n",
    "    #Xoa bo cac ki tu khong can thiet\n",
    "    document = remove_unnecessary_character(document)\n",
    "    \n",
    "    return document"
   ]
  },
  {
   "cell_type": "markdown",
   "metadata": {},
   "source": [
    "### 7. Loai bo stopword"
   ]
  },
  {
   "cell_type": "code",
   "execution_count": 17,
   "metadata": {},
   "outputs": [
    {
     "data": {
      "text/plain": [
       "{'1',\n",
       " '2',\n",
       " '3',\n",
       " '4',\n",
       " '5',\n",
       " 'anh',\n",
       " 'biết',\n",
       " 'bạn',\n",
       " 'bằng',\n",
       " 'bị',\n",
       " 'bộ',\n",
       " 'cao',\n",
       " 'cho',\n",
       " 'chưa',\n",
       " 'chỉ',\n",
       " 'các',\n",
       " 'còn',\n",
       " 'có',\n",
       " 'có_thể',\n",
       " 'cô',\n",
       " 'cùng',\n",
       " 'cũng',\n",
       " 'cả',\n",
       " 'cần',\n",
       " 'của',\n",
       " 'do',\n",
       " 'hai',\n",
       " 'hay',\n",
       " 'hơn',\n",
       " 'họ',\n",
       " 'khi',\n",
       " 'khác',\n",
       " 'không',\n",
       " 'là',\n",
       " 'làm',\n",
       " 'lên',\n",
       " 'lại',\n",
       " 'lần',\n",
       " 'mà',\n",
       " 'mình',\n",
       " 'một',\n",
       " 'mới',\n",
       " 'nam',\n",
       " 'ngày',\n",
       " 'người',\n",
       " 'nhiều',\n",
       " 'nhà',\n",
       " 'như',\n",
       " 'nhưng',\n",
       " 'nhất',\n",
       " 'những',\n",
       " 'này',\n",
       " 'nên',\n",
       " 'nói',\n",
       " 'năm',\n",
       " 'nước',\n",
       " 'nếu',\n",
       " 'phim',\n",
       " 'phải',\n",
       " 'qua',\n",
       " 'ra',\n",
       " 'rất',\n",
       " 'rằng',\n",
       " 'sau',\n",
       " 'sẽ',\n",
       " 'số',\n",
       " 'sự',\n",
       " 'theo',\n",
       " 'tháng',\n",
       " 'thì',\n",
       " 'thứ',\n",
       " 'trong',\n",
       " 'trên',\n",
       " 'trước',\n",
       " 'trường',\n",
       " 'tôi',\n",
       " 'tại',\n",
       " 'tới',\n",
       " 'từ',\n",
       " 'việc',\n",
       " 'việt_nam',\n",
       " 'và',\n",
       " 'vào',\n",
       " 'vì',\n",
       " 'vẫn',\n",
       " 'về',\n",
       " 'với',\n",
       " 'ông',\n",
       " 'đang',\n",
       " 'đi',\n",
       " 'điều',\n",
       " 'điểm',\n",
       " 'đây',\n",
       " 'đã',\n",
       " 'đó',\n",
       " 'được',\n",
       " 'đến',\n",
       " 'để',\n",
       " 'đội',\n",
       " 'ở'}"
      ]
     },
     "execution_count": 17,
     "metadata": {},
     "output_type": "execute_result"
    }
   ],
   "source": [
    "stopwords = pickle.load(open('data/saved/stopwords.sav', 'rb'))\n",
    "stopwords"
   ]
  },
  {
   "cell_type": "code",
   "execution_count": 18,
   "metadata": {},
   "outputs": [
    {
     "data": {
      "text/plain": [
       "'nghị_định ban_hành dân hết 16 9'"
      ]
     },
     "execution_count": 18,
     "metadata": {},
     "output_type": "execute_result"
    }
   ],
   "source": [
    "# Loại bỏ stopword\n",
    "def remove_stopwords(document):\n",
    "    words = document.split(' ')\n",
    "    res = list()\n",
    "    for word in words:\n",
    "        if word not in stopwords:\n",
    "            res.append(word)\n",
    "    return ' '.join(res)\n",
    "\n",
    "# Kiểm tra\n",
    "remove_stopwords(preprocess_data('Theo nghị định đã ban hành, người dân cần ở trong nhà đến hết ngày 16/9.'))"
   ]
  },
  {
   "cell_type": "markdown",
   "metadata": {},
   "source": [
    "### Tien xu li tren tap train va test"
   ]
  },
  {
   "cell_type": "code",
   "execution_count": 19,
   "metadata": {},
   "outputs": [
    {
     "data": {
      "application/json": {
       "ascii": false,
       "bar_format": null,
       "colour": null,
       "elapsed": 0.004672050476074219,
       "initial": 0,
       "n": 0,
       "ncols": null,
       "nrows": null,
       "postfix": null,
       "prefix": "",
       "rate": null,
       "total": 22444,
       "unit": "it",
       "unit_divisor": 1000,
       "unit_scale": false
      },
      "application/vnd.jupyter.widget-view+json": {
       "model_id": "be4cb390753049b59897aabec39c0c8d",
       "version_major": 2,
       "version_minor": 0
      },
      "text/plain": [
       "  0%|          | 0/22444 [00:00<?, ?it/s]"
      ]
     },
     "metadata": {},
     "output_type": "display_data"
    },
    {
     "data": {
      "application/json": {
       "ascii": false,
       "bar_format": null,
       "colour": null,
       "elapsed": 0.0027658939361572266,
       "initial": 0,
       "n": 0,
       "ncols": null,
       "nrows": null,
       "postfix": null,
       "prefix": "",
       "rate": null,
       "total": 9620,
       "unit": "it",
       "unit_divisor": 1000,
       "unit_scale": false
      },
      "application/vnd.jupyter.widget-view+json": {
       "model_id": "5e18cba8380e45db8db34399c199e041",
       "version_major": 2,
       "version_minor": 0
      },
      "text/plain": [
       "  0%|          | 0/9620 [00:00<?, ?it/s]"
      ]
     },
     "metadata": {},
     "output_type": "display_data"
    }
   ],
   "source": [
    "\n",
    "for index,content in enumerate(tqdm(x_train)):\n",
    "    x_train[index] = preprocess_data(content)\n",
    "\n",
    "for index,content in enumerate(tqdm(x_test)):\n",
    "    x_test[index] = preprocess_data(content)"
   ]
  },
  {
   "cell_type": "code",
   "execution_count": 20,
   "metadata": {},
   "outputs": [],
   "source": [
    "stopwords_path = 'data/saved/stopwords.sav'\n",
    "stopwords = pickle.load(open(stopwords_path, 'rb'))"
   ]
  },
  {
   "cell_type": "code",
   "execution_count": 21,
   "metadata": {},
   "outputs": [
    {
     "data": {
      "application/json": {
       "ascii": false,
       "bar_format": null,
       "colour": null,
       "elapsed": 0.002985239028930664,
       "initial": 0,
       "n": 0,
       "ncols": null,
       "nrows": null,
       "postfix": null,
       "prefix": "",
       "rate": null,
       "total": 22444,
       "unit": "it",
       "unit_divisor": 1000,
       "unit_scale": false
      },
      "application/vnd.jupyter.widget-view+json": {
       "model_id": "95db9e2cebe6490ba65614a697a4495d",
       "version_major": 2,
       "version_minor": 0
      },
      "text/plain": [
       "  0%|          | 0/22444 [00:00<?, ?it/s]"
      ]
     },
     "metadata": {},
     "output_type": "display_data"
    },
    {
     "name": "stdout",
     "output_type": "stream",
     "text": [
      "Loại bỏ stopwords trên tập test...\n"
     ]
    },
    {
     "data": {
      "application/json": {
       "ascii": false,
       "bar_format": null,
       "colour": null,
       "elapsed": 0.002887248992919922,
       "initial": 0,
       "n": 0,
       "ncols": null,
       "nrows": null,
       "postfix": null,
       "prefix": "",
       "rate": null,
       "total": 9620,
       "unit": "it",
       "unit_divisor": 1000,
       "unit_scale": false
      },
      "application/vnd.jupyter.widget-view+json": {
       "model_id": "957d3535df494083bd0b32becf329331",
       "version_major": 2,
       "version_minor": 0
      },
      "text/plain": [
       "  0%|          | 0/9620 [00:00<?, ?it/s]"
      ]
     },
     "metadata": {},
     "output_type": "display_data"
    }
   ],
   "source": [
    "for i, news in enumerate(tqdm(x_train)):\n",
    "  x_train[i] = remove_stopwords(news)\n",
    "\n",
    "print('Loại bỏ stopwords trên tập test...')\n",
    "for i, news in enumerate(tqdm(x_test)):\n",
    "  x_test[i] = remove_stopwords(news)"
   ]
  },
  {
   "cell_type": "code",
   "execution_count": 22,
   "metadata": {},
   "outputs": [],
   "source": [
    "train_x_path = 'data/saved/train_x.sav'\n",
    "train_y_path = 'data/saved/train_y.sav'\n",
    "test_x_path = 'data/saved/test_x.sav'\n",
    "test_y_path = 'data/saved/test_y.sav'\n",
    "\n",
    "pickle.dump(x_train, open(train_x_path, 'wb'))\n",
    "pickle.dump(y_train, open(train_y_path, 'wb'))\n",
    "pickle.dump(x_test, open(test_x_path, 'wb'))\n",
    "pickle.dump(y_test, open(test_y_path, 'wb'))"
   ]
  },
  {
   "cell_type": "code",
   "execution_count": 23,
   "metadata": {},
   "outputs": [],
   "source": [
    "x_train = np.array(pickle.load(open('data/saved/train_x.sav', 'rb')))\n",
    "y_train = np.array(pickle.load(open('data/saved/train_y.sav', 'rb')))\n",
    "x_test = np.array(pickle.load(open('data/saved/test_x.sav', 'rb')))\n",
    "y_test = np.array(pickle.load(open('data/saved/test_y.sav', 'rb')))"
   ]
  },
  {
   "cell_type": "code",
   "execution_count": 24,
   "metadata": {},
   "outputs": [
    {
     "data": {
      "text/plain": [
       "array(['trình_duyệt netscape hồi_sinh công_cụ duyệt web aol cuối_cùng chết giới phân_tích từng nhận_định năm_ngoái america online vừa công_bố gói phần_mềm nâng_cấp netscape internet một_số ứng_dụng desktop sắp_sửa tung chương_trình update nằm nỗ_lực quy_mô lớn aol nhằm thổi sức_sống thương_hiệu netscape mua 1998 giá tỷ usd phiên_bản nâng_cấp 7 thay_thế phần_mềm 7 tung giữa năm_ngoái browser dựa nền phiên_bản 7 trình_duyệt mozilla phần_mềm sắp tung ứng_dụng mozilla internet bản netscape 7 hiện_hành dựa mozilla trình_duyệt xuất_hiện đầu_tiên 6 2003 bản thử_nghiệm beta mozilla 7 phát_hành gói phần_mềm bao_gồm browser công_cụ e mail tiện_ích tập_tin newsgroup ứng_dụng nhắn_tin nhanh một_số tính_năng biên_tập trang_web chống pop up bên cạnh phần_mềm trình_duyệt aol lặng_lẽ phát_hành bản thử_nghiệm beta sản_phẩm tên netscape desktop navigator cung_cấp đường truy_nhập nội_dung web tính địa_phương dựa mã vùng sử_dụng thông_qua giao_diện tròn giống chiếc la_bàn hàng haỉ trung_tâm giao_diện công_cụ thanh công_cụ tìm_kiếm search bar hiển_thị tiêu_đề bài báo mục dự_báo thời_tiết phía ngoài rìa nút dùng khai_thác nguồn thông_tin nhau web bảng chương_trình truyền_hình danh_bạ điện_thoại bản_đồ mua_bán tham_khảo tải miễn_phí bản beta netscape desktop navigator phân_tích từng tiếng chuông nguyện hồn netscape năm_ngoái aol sa_thải phần_lớn chuyên_gia phát_triển phần_mềm chấm_dứt công_tác xúc_tiến dựa công_nghệ duyệt mozilla phát_triển tiếp_quản bởi dự_án mã mở mozilla vốn hãng netscape communications khởi_xướng đầu 1998 aol tiếp_tục hãng sáp_nhập netscape cuối 2003 lãnh_đạo mozilla thành_lập tổ_chức ngân_sách triệu usd aol cam_kết tài_trợ xây_dựng hỗ_trợ xúc_tiến sản_phẩm mozilla netscape trình_duyệt phổ_biến đầu world wide_web ra_đời tuy_nhiên thị_phần công_cụ bắt_đầu thu_hẹp nhanh_chóng microsoft tung internet explorer giữa 90 thế_kỷ bất_chấp sáp_nhập aol nỗ_lực chống độc_tôn microsoft dường_như bao_giờ đem netscape vị_thế tương_xứng ngày_xưa tính nay internet explorer nắm giữ 96 thị_trường trình_duyệt mảnh sân cỏn_con nescape chơi chung một_số trình_duyệt safari apple opera mozilla',\n",
       "       'giải thuộc giám_đốc viện kiểm_sát_nhân_dân tp hcm vị_trí lần_lượt thuộc giám_đốc lê phương mai sv khoa công_nghệ thông_tin đh khoa_học tự_nhiên tp hcm trần ngọc thịnh sv khoa_ngoại_ngữ đh bách_khoa hà nôị phạm trọng chinh sv khoa quản_lý công_nghiệp đh bách_khoa tp hcm văn_công_an nhân_viên bài hùng_biện câu trả_lời nguyễn văn sơn thể_hiện tin_tưởng trao sứ_mệnh phát_triển khoa_học công_nghệ lực_lượng trẻ gắn phát_triển khoa_học công_nghệ phát_triển nguồn nhân_lực trẻ sơn cơ_chế chính mấu_chốt khó_khăn vướng_mắc bản_lĩnh tự_tin tầm hiểu_biết khả_năng vạch chiến_lược nhằm xây_dựng khu công_nghệ_cao tp hcm ngày_càng thí_sinh tạo không_khí căng_thẳng hồi_hộp trận chung_kết nhận_xét chất_lượng bài thi chất_lượng giám_đốc phạm chánh_trực trưởng ban ban quản_lý khu công_nghệ_cao tp hcm vui_mừng thí_sinh tâm_huyết cuộc thi tìm_hiểu khá sâu công_nghệ_cao khu công_nghệ_cao tp hcm đều tự_tin bản_lĩnh một_số_đề_xuất giải_pháp đưa giá_trị hợp_lý khả_thi cuộc thi giám_đốc khu công_nghệ_cao tp hcm hoạt_động khuôn_khổ tuần_lễ khu công_nghệ_cao tp hcm 2005 24 10 30 10 ban quản_lý khu công_nghệ_cao tp hcm tổ_chức tính 10 10 cuối_cùng hạn nộp bài thi ban tổ_chức nhận 128 bài dự thi sinh_viên cán_bộ chuyên_viên kỹ_thuật',\n",
       "       'mùa siêu giảm_giá singapore hằng cuối cuối 7 singapore bước đợt siêu khuyến maĩ hàng nghìn cửa_hàng lớn nhỏ đồng_loạt giảm_giá bán 70 trở thời_điểm công_ty thay_đổi kiểu_dáng mẫu_mã hàng_hoá dịp cửa_hàng thanh_toán tất_cả hàng_hóa tồn_kho vì_vậy muốn bán_tống bán thaó gì sót kho cửa_hàng 8 bắt_đầu kinh_doanh hàng_hóa singapore dịp naỳ đâu khách du_lịch thấy bảng quảng_cáo giảm_giá đầy hấp_dẫn con_số phần_trăm giảm_giá treo khắp mọi nơi khu mua_sắm sang_trọng ngee an city tang plaza nơi bình_dân mustapha china town con_số giảm_giá 60 70 80 thậm_chí 90 in thật to màu đỏ_chói đập mắt mời_gọi du_khách xin mách một_vài kinh_nghiệm đừng thấy cửa_hàng dọc orchard road hoặc raffles city quá sang_trọng bước vaò gặp hàng cao_cấp áo_quần giaỳ túi_xách cao_cấp mỹ_phẩm giá vừa tầm tay tang plaza takashimaya robinson specialist món hàng_hiệu giá beò sim lim square hấp_dẫn du_khách tòa 6 tầng bày la_liệt hàng điện maý chiếc cd nhái kiểu máy digital camera laptop đời_mới mọi chẳng chọn mua gì bán hàng nói_thách vì_vậy muốn mua gì nắm giá_cả khỏi hớ trả_giá rành món hàng mua khỏi mua trùng hàng nhái hoặc mất linh_kiện kèm mua xong nhớ giấy_tờ hoàn thuế_gst good and services tax ikea furniture mall siêu_thị bán hàng gia_dụng sản_xuất thụy điển tầng mênh_mông cung_cấp mọi sử_dụng gia_đình hoặc trang_trí giá rẻ thông_dụng nồi_niêu xoong chảo hàng độc trang_trí loại đèn dầu xưa đèn măng_sông đều có_mặt mua xong khu_vực khách đóng_gói đem giá cố_định trả_giá china town mustapha nơi mua mọi chai dầu xanh hiệu con ó chiếc điện_thoại nokia đời_mới tuy_nhiên cách trình_bày hàng_hóa bắt_mắt khách hoàn thuế sân_bay',\n",
       "       ...,\n",
       "       'lg p7200 đối_thủ razr v3 hòa vào_cuộc chạy_đua sản_xuất điện_thoại siêu mỏng lg vừa ra_mắt dòng điện_thoại đa_phương_tiện dày razr v3 motorola đôi_chút tích_hợp tính_năng sử_dụng mạnh độ dày 17 mm kích_thước 97 x 50 mm lg p7200 to tấm thẻ tín_dụng màn_hình lcd rộng inch xoay 1800 áp lưng ống_kính megapixel sản_phẩm trông giống chiếc máy_ảnh exilim coolpix camera điện_thoại hỗ_trợ đèn flash cực sáng tự_động lấy tiêu_cự khả_năng quay_phim giới_hạn hết dung_lượng thẻ_nhớ ngoài tính_năng multimedia p7200 máy nghe nhạc mp3 khá tiện_dụng phím điều_khiển ngay bên ngoài dùng nghe nhạc mở maý thẻ_nhớ t flash phép mở_rộng dung_lượng nhớ 64 mb sẵn giống mẫu cao_cấp p7200 hỗ_trợ giao_tiếp dây bluetooth chức_năng ghi_âm cuộc goị tải xem định_dạng mpeg4 màn_hình chính tft độ phân_giải 176 x 220 pixel hiển_thị 262 000 maù màn_hình ngoài 96 x 90 pixel hiển_thị 65k maù pin li ion 800 mah thời_gian đàm_thoại liên_tục giờ thời_gian chờ 200 tiếng p7200 tung đầu_tiên thị_trường nga đầu 11 tạo cơn_sốt website sản_phẩm công_nghệ nơi thế_giới dự_kiến loại điện_thoại gây chú_ý lg hãng phát_hành toàn câù đại_diện lg cuối 12 p7200 ra_mắt đầu_tiên hà_nội tp hcm giá 7 triệu đồng mặc_dù thực_tế sản_phẩm giới_thiệu một_số trang_web điện_thoại nay ra_mắt dịp loại điện_thoại lg s5200 nắp trượt s5000 vỏ sò',\n",
       "       'màn võ_thuật live show đàm vĩnh_hưng từng tuyên_bố mạnh_miệng live show đủ đàm vĩnh_hưng tiếp lý giaỉ ý_tưởng tải hết dồn hết live show sắp tổ_chức sân lan đêm 17 12 mảng miếng nào tung live show naỳ từng chắc_chắn mọi bất_ngờ chương_trình màn đánh nhau sân_khấu độc_đáo đạo_diễn huỳnh phúc điền tiết_lộ chương_trình tự đối_thoại chính mọi e_ngại vốn ăn_nói khó kiểm_soát nghĩ sao chương_trình kịch_bản tất_cả đều biên_tập gì show diễn quan_trọng vâỵ chi_phí đêm diễn tiết_lộ bởi quan_niệm lỗ lời đều gánh_chịu ôm một_mình thôi chuyện trang_phục thế naò chuyến lưu_diễn nước_ngoài vừa_qua mua đồ phục_vụ show diễn gì cảm_thấy tốt đẹp mua hết kể_cả đồ âm_thanh ánh_sáng trống đạo_cụ trang_phục múa minh_hoạ ca_sĩ khách mời thanh lam siu black mỹ tâm hồng_ngọc đều phong_cách nhau thế_nào hòa_hợp thanh lam thần_tượng lâu mong_muốn hát chung chị vui chị nhận_lời chị_em hát giọt nắng bên thềm chia_tay hoàng_hôn khách mời đều gương_mặt quen_thuộc khán_giả cảm_thấy lo_lắng thông_tin nhận_lời tham_gia live show đan chơi_xấu cách tổ_chức live show tuần chuyện thực_hư thế naò chuẩn_bị live show đan mời diễn làn_sóng xanh như_vậy gì chuyện chơi_khăm live show từ_thiện mọi đánh_bóng tên_tuổi nghĩ gì chuyện naỳ bao_giờ nghĩ từ_thiện tên_tuổi xuất_thân đâu live show trích phần tiền trao quỹ học_bổng nguyễn thái_bình quỹ tiếp_sức quỹ công_nhân vệ_sinh mất khả_năng lao_động đồng_bào lũ_lụt cuốn tự_truyện hưng con đường gì con đường cuộc_sống nghề_nghiệp quan_hệ bạn_bè',\n",
       "       'pgs ts trần thị trung chiến bộ_trưởng y_tế kế_hoạch phân tuyến điều_trị phân_công_cụ_thể tùy từng cấp_độ dịch trường_hợp dịch xảy lẻ_tẻ quy_mô lớn tổng_số bệnh_nhân toàn_quốc mắc cúm a h5n1 vượt quá 100 phân_công tiếp_nhận bệnh_nhân miền bắc viện y_học lâm_sàng bệnh nhiệt_đới bệnh_viện bạch mai nhi tw trước_mắt chuẩn_bị cơ_sở vật_chất đơn_nguyên cách_ly khoảng 20 30 giường miền trung bệnh_viện đk tw huế tiếp_nhận bệnh_nhân khu_vực miền trung tây nguyên quảng_bình khánh hoà chuẩn_bị sẵn_sàng 30 giường miền bệnh_viện bệnh nhiệt_đới tp hcm nhi_đồng chuẩn_bị mỗi cơ_sở 20 giường nhi_đồng 10 giường trường_hợp dịch cúm bùng_phát mức trung_bình 101 300 bệnh_nhân phân tuyến điều_trị miền bắc ngoài cơ_sở kể bố_trí thêm bệnh_viện hà nôị bắc thăng long đức_giang đống đa tiếp_nhận hỗ_trợ điều_trị đối_với bệnh_viện mang tính_chất vùng đa_khoa tw thái nguyên hải phòng thanh hoá thái_bình tiếp_nhận bệnh_nhân khu_vực xung_quanh mỗi bệnh_viện chuẩn_bị 20 giường cách_ly trang_bị khoảng 30 giường dự_trữ miền trung bệnh_viện đktw huế chuẩn_bị thu_dung khoảng 50 bệnh_nhân đồng_thời huy_động thêm nhân_lực khoa nhiễm nhi hồi_sức cấp cưú phân_công bệnh_viện đa_khoa tuyến tỉnh đà_nẵng bình định khánh hoà đăk lăk mỗi bệnh_viện 20 giường cách_ly 30 giường cách_ly dự_trữ miền bệnh_viện nhi_đồng tp hcm chuẩn_bị sẵn_sàng 30 giường cách_ly chợ râỹ 20 giường nhi_đồng 25 giường bên cạnh giường dự_trữ bv quân_y 175 ngoài_ra bệnh_viện tw thơ kiên_giang mỗi bệnh_viện 20 giường cách_ly 30 giường dự_trữ dịch bùng_phát khu_vực trường_hợp dịch bùng_phát lớn 300 000 bệnh_nhân tốc_độ lan nhanh y_tế phân_công thu_dung cách_ly điều_trị ngoài đơn_vị phân_công tình_huống kể huy_động thêm bệnh_viện trung_tâm tỉnh 30 50 giường cách_ly bệnh_viện đa_khoa tỉnh 20 30 giường bệnh_viện chuyên_khoa lao bệnh phổi tuyến tỉnh 10 20 giường bệnh_viện huyện mỗi khu_vực bố_trí 10 20 giường cách_ly trường_hợp bệnh_nhân quá nặng không_thể điều_trị chuyển bệnh_nhân tuyến cuối liên_hệ sẵn_sàng chuẩn_bị cơ_sở tiếp_nhận riêng bệnh_viện ngành quân_y chuẩn_bị 10 30 giường cách_ly tùy quy_mô trường_hợp dịch bùng_phát quá lớn vượt quá khả_năng kiểm_soát chúng_ta không_thể khống_chế huy_động toàn_lực_lượng y_tế dân y quân_y hình_thành bệnh_viện dã_chiến tham_gia sử_dụng tất_cả cơ_sở khám chữa bệnh sử_dụng tất_cả phòng học phổ_thông trung_học đại_học tiếp_nhận bệnh_nhân tuyến điều_trị'],\n",
       "      dtype=object)"
      ]
     },
     "execution_count": 24,
     "metadata": {},
     "output_type": "execute_result"
    }
   ],
   "source": [
    "x_test"
   ]
  }
 ],
 "metadata": {
  "kernelspec": {
   "display_name": "base",
   "language": "python",
   "name": "python3"
  },
  "language_info": {
   "codemirror_mode": {
    "name": "ipython",
    "version": 3
   },
   "file_extension": ".py",
   "mimetype": "text/x-python",
   "name": "python",
   "nbconvert_exporter": "python",
   "pygments_lexer": "ipython3",
   "version": "3.8.18"
  }
 },
 "nbformat": 4,
 "nbformat_minor": 2
}
